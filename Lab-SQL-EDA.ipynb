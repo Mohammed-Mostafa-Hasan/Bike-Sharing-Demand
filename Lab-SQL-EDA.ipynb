{
 "cells": [
  {
   "cell_type": "markdown",
   "metadata": {},
   "source": [
    "<center>\n",
    "    <img src=\"https://s3-api.us-geo.objectstorage.softlayer.net/cf-courses-data/CognitiveClass/Logos/organization_logo/organization_logo.png\" width=\"1000\" alt=\"cognitiveclass.ai logo\"  />\n",
    "</center>\n",
    "\n",
    "# Assignment: Exploratory Data Analysis with SQL\n",
    "\n",
    "Estimated time needed: 60 minutes\n",
    "\n",
    "# Introduction\n",
    "\n",
    "Using this R notebook you will perform exploratory data analysis tasks using SQL queries with the RODBC R package. You will not be graded here, but you will be asked to present some of these results in your final assignment, where you will be graded on the accuracy of your results as well as the content of your SQL queries.\n"
   ]
  },
  {
   "cell_type": "markdown",
   "metadata": {},
   "source": [
    "### Establish your Db2 connection\n",
    "\n",
    "Load the 'RODBC' library, and use the 'odbcConnect( )' function as you did in the previous lab to establish the connection to your Db2 assets.\\\n",
    "Provided you successfully loaded your data into the tables in that lab, you are now ready to start running SQL queries using the RODBC library as you did in Course 3.\n"
   ]
  },
  {
   "cell_type": "code",
   "execution_count": null,
   "metadata": {},
   "outputs": [],
   "source": [
    "# provide your solution here"
   ]
  },
  {
   "cell_type": "code",
   "execution_count": 5,
   "metadata": {},
   "outputs": [],
   "source": [
    "library(RODBC)"
   ]
  },
  {
   "cell_type": "code",
   "execution_count": 6,
   "metadata": {},
   "outputs": [],
   "source": [
    "dsn_driver <- \"{IBM DB2 ODBC Driver}\"\n",
    "dsn_database <- \"bludb\"            # e.g. \"bludb\"\n",
    "dsn_hostname <- \"19af6446-6171-4641-8aba-9dcff8e1b6ff.c1ogj3sd0tgtu0lqde00.databases.appdomain.cloud\" # e.g \"54a2f15b-5c0f-46df-8954-.databases.appdomain.cloud\"\n",
    "dsn_port <- \"30699\"   # e.g. \"32733\" \n",
    "dsn_protocol <- \"TCPIP\"            # i.e. \"TCPIP\"\n",
    "dsn_uid <- \"znh14018\"        # e.g. \"zjh17769\"\n",
    "dsn_pwd <- \"zoVWAHZXqFvxz1Se\"      # e.g. \"zcwd4+8gbq9bm5k4\"  \n",
    "dsn_security <- \"ssl\""
   ]
  },
  {
   "cell_type": "code",
   "execution_count": 7,
   "metadata": {},
   "outputs": [],
   "source": [
    "conn_path <- paste(\"DRIVER=\",dsn_driver,\n",
    "                  \";DATABASE=\",dsn_database,\n",
    "                  \";HOSTNAME=\",dsn_hostname,\n",
    "                  \";PORT=\",dsn_port,\n",
    "                  \";PROTOCOL=\",dsn_protocol,\n",
    "                  \";UID=\",dsn_uid,\n",
    "                  \";PWD=\",dsn_pwd,\n",
    "                  \";SECURITY=\",dsn_security,        \n",
    "                    sep=\"\")"
   ]
  },
  {
   "cell_type": "code",
   "execution_count": 8,
   "metadata": {},
   "outputs": [],
   "source": [
    "conn <- odbcDriverConnect(conn_path)"
   ]
  },
  {
   "cell_type": "code",
   "execution_count": 9,
   "metadata": {},
   "outputs": [
    {
     "data": {
      "text/html": [
       "<style>\n",
       ".dl-inline {width: auto; margin:0; padding: 0}\n",
       ".dl-inline>dt, .dl-inline>dd {float: none; width: auto; display: inline-block}\n",
       ".dl-inline>dt::after {content: \":\\0020\"; padding-right: .5ex}\n",
       ".dl-inline>dt:not(:first-of-type) {padding-left: .5ex}\n",
       "</style><dl class=dl-inline><dt>DBMS_Name</dt><dd>'DB2/LINUXX8664'</dd><dt>DBMS_Ver</dt><dd>'11.05.0700'</dd><dt>Driver_ODBC_Ver</dt><dd>'03.51'</dd><dt>Data_Source_Name</dt><dd>''</dd><dt>Driver_Name</dt><dd>'libdb2.a'</dd><dt>Driver_Ver</dt><dd>'11.05.0600'</dd><dt>ODBC_Ver</dt><dd>'03.52'</dd><dt>Server_Name</dt><dd>'DB2'</dd></dl>\n"
      ],
      "text/latex": [
       "\\begin{description*}\n",
       "\\item[DBMS\\textbackslash{}\\_Name] 'DB2/LINUXX8664'\n",
       "\\item[DBMS\\textbackslash{}\\_Ver] '11.05.0700'\n",
       "\\item[Driver\\textbackslash{}\\_ODBC\\textbackslash{}\\_Ver] '03.51'\n",
       "\\item[Data\\textbackslash{}\\_Source\\textbackslash{}\\_Name] ''\n",
       "\\item[Driver\\textbackslash{}\\_Name] 'libdb2.a'\n",
       "\\item[Driver\\textbackslash{}\\_Ver] '11.05.0600'\n",
       "\\item[ODBC\\textbackslash{}\\_Ver] '03.52'\n",
       "\\item[Server\\textbackslash{}\\_Name] 'DB2'\n",
       "\\end{description*}\n"
      ],
      "text/markdown": [
       "DBMS_Name\n",
       ":   'DB2/LINUXX8664'DBMS_Ver\n",
       ":   '11.05.0700'Driver_ODBC_Ver\n",
       ":   '03.51'Data_Source_Name\n",
       ":   ''Driver_Name\n",
       ":   'libdb2.a'Driver_Ver\n",
       ":   '11.05.0600'ODBC_Ver\n",
       ":   '03.52'Server_Name\n",
       ":   'DB2'\n",
       "\n"
      ],
      "text/plain": [
       "       DBMS_Name         DBMS_Ver  Driver_ODBC_Ver Data_Source_Name \n",
       "\"DB2/LINUXX8664\"     \"11.05.0700\"          \"03.51\"               \"\" \n",
       "     Driver_Name       Driver_Ver         ODBC_Ver      Server_Name \n",
       "      \"libdb2.a\"     \"11.05.0600\"          \"03.52\"            \"DB2\" "
      ]
     },
     "metadata": {},
     "output_type": "display_data"
    }
   ],
   "source": [
    "data_type <- sqlTypeInfo(conn)\n",
    "get.info <- odbcGetInfo(conn)\n",
    "get.info"
   ]
  },
  {
   "cell_type": "markdown",
   "metadata": {},
   "source": [
    "## Task 1 - Record Count\n",
    "\n",
    "#### Determine how many records are in the seoul_bike_sharing dataset.\n"
   ]
  },
  {
   "cell_type": "markdown",
   "metadata": {},
   "source": [
    "### Solution 1\n"
   ]
  },
  {
   "cell_type": "code",
   "execution_count": 20,
   "metadata": {
    "scrolled": true
   },
   "outputs": [
    {
     "data": {
      "text/html": [
       "<table>\n",
       "<caption>A data.frame: 1 × 1</caption>\n",
       "<thead>\n",
       "\t<tr><th></th><th scope=col>1</th></tr>\n",
       "\t<tr><th></th><th scope=col>&lt;int&gt;</th></tr>\n",
       "</thead>\n",
       "<tbody>\n",
       "\t<tr><th scope=row>1</th><td>8465</td></tr>\n",
       "</tbody>\n",
       "</table>\n"
      ],
      "text/latex": [
       "A data.frame: 1 × 1\n",
       "\\begin{tabular}{r|l}\n",
       "  & 1\\\\\n",
       "  & <int>\\\\\n",
       "\\hline\n",
       "\t1 & 8465\\\\\n",
       "\\end{tabular}\n"
      ],
      "text/markdown": [
       "\n",
       "A data.frame: 1 × 1\n",
       "\n",
       "| <!--/--> | 1 &lt;int&gt; |\n",
       "|---|---|\n",
       "| 1 | 8465 |\n",
       "\n"
      ],
      "text/plain": [
       "  1   \n",
       "1 8465"
      ]
     },
     "metadata": {},
     "output_type": "display_data"
    }
   ],
   "source": [
    "# provide your solution here\n",
    "sqlQuery(conn,\"select count(*) from seoul_bike_sharing;\")"
   ]
  },
  {
   "cell_type": "markdown",
   "metadata": {},
   "source": [
    "## Task 2 - Operational Hours\n",
    "\n",
    "#### Determine how many hours had non-zero rented bike count.\n"
   ]
  },
  {
   "cell_type": "code",
   "execution_count": 12,
   "metadata": {},
   "outputs": [
    {
     "data": {
      "text/html": [
       "<table>\n",
       "<caption>A data.frame: 3 × 14</caption>\n",
       "<thead>\n",
       "\t<tr><th></th><th scope=col>DATE</th><th scope=col>RENTED_BIKE_COUNT</th><th scope=col>HOUR</th><th scope=col>TEMPERATURE</th><th scope=col>HUMIDITY</th><th scope=col>WIND_SPEED</th><th scope=col>VISIBILITY</th><th scope=col>DEW_POINT_TEMPERATURE</th><th scope=col>SOLAR_RADIATION</th><th scope=col>RAINFALL</th><th scope=col>SNOWFALL</th><th scope=col>SEASONS</th><th scope=col>HOLIDAY</th><th scope=col>FUNCTIONING_DAY</th></tr>\n",
       "\t<tr><th></th><th scope=col>&lt;fct&gt;</th><th scope=col>&lt;int&gt;</th><th scope=col>&lt;int&gt;</th><th scope=col>&lt;dbl&gt;</th><th scope=col>&lt;int&gt;</th><th scope=col>&lt;dbl&gt;</th><th scope=col>&lt;int&gt;</th><th scope=col>&lt;dbl&gt;</th><th scope=col>&lt;dbl&gt;</th><th scope=col>&lt;dbl&gt;</th><th scope=col>&lt;dbl&gt;</th><th scope=col>&lt;fct&gt;</th><th scope=col>&lt;fct&gt;</th><th scope=col>&lt;fct&gt;</th></tr>\n",
       "</thead>\n",
       "<tbody>\n",
       "\t<tr><th scope=row>1</th><td>01/12/2017</td><td>254</td><td>0</td><td>-5.2</td><td>37</td><td>2.2</td><td>2000</td><td>-17.6</td><td>0</td><td>0</td><td>0</td><td>Winter</td><td>No Holiday</td><td>Yes</td></tr>\n",
       "\t<tr><th scope=row>2</th><td>01/12/2017</td><td>204</td><td>1</td><td>-5.5</td><td>38</td><td>0.8</td><td>2000</td><td>-17.6</td><td>0</td><td>0</td><td>0</td><td>Winter</td><td>No Holiday</td><td>Yes</td></tr>\n",
       "\t<tr><th scope=row>3</th><td>01/12/2017</td><td>173</td><td>2</td><td>-6.0</td><td>39</td><td>1.0</td><td>2000</td><td>-17.7</td><td>0</td><td>0</td><td>0</td><td>Winter</td><td>No Holiday</td><td>Yes</td></tr>\n",
       "</tbody>\n",
       "</table>\n"
      ],
      "text/latex": [
       "A data.frame: 3 × 14\n",
       "\\begin{tabular}{r|llllllllllllll}\n",
       "  & DATE & RENTED\\_BIKE\\_COUNT & HOUR & TEMPERATURE & HUMIDITY & WIND\\_SPEED & VISIBILITY & DEW\\_POINT\\_TEMPERATURE & SOLAR\\_RADIATION & RAINFALL & SNOWFALL & SEASONS & HOLIDAY & FUNCTIONING\\_DAY\\\\\n",
       "  & <fct> & <int> & <int> & <dbl> & <int> & <dbl> & <int> & <dbl> & <dbl> & <dbl> & <dbl> & <fct> & <fct> & <fct>\\\\\n",
       "\\hline\n",
       "\t1 & 01/12/2017 & 254 & 0 & -5.2 & 37 & 2.2 & 2000 & -17.6 & 0 & 0 & 0 & Winter & No Holiday & Yes\\\\\n",
       "\t2 & 01/12/2017 & 204 & 1 & -5.5 & 38 & 0.8 & 2000 & -17.6 & 0 & 0 & 0 & Winter & No Holiday & Yes\\\\\n",
       "\t3 & 01/12/2017 & 173 & 2 & -6.0 & 39 & 1.0 & 2000 & -17.7 & 0 & 0 & 0 & Winter & No Holiday & Yes\\\\\n",
       "\\end{tabular}\n"
      ],
      "text/markdown": [
       "\n",
       "A data.frame: 3 × 14\n",
       "\n",
       "| <!--/--> | DATE &lt;fct&gt; | RENTED_BIKE_COUNT &lt;int&gt; | HOUR &lt;int&gt; | TEMPERATURE &lt;dbl&gt; | HUMIDITY &lt;int&gt; | WIND_SPEED &lt;dbl&gt; | VISIBILITY &lt;int&gt; | DEW_POINT_TEMPERATURE &lt;dbl&gt; | SOLAR_RADIATION &lt;dbl&gt; | RAINFALL &lt;dbl&gt; | SNOWFALL &lt;dbl&gt; | SEASONS &lt;fct&gt; | HOLIDAY &lt;fct&gt; | FUNCTIONING_DAY &lt;fct&gt; |\n",
       "|---|---|---|---|---|---|---|---|---|---|---|---|---|---|---|\n",
       "| 1 | 01/12/2017 | 254 | 0 | -5.2 | 37 | 2.2 | 2000 | -17.6 | 0 | 0 | 0 | Winter | No Holiday | Yes |\n",
       "| 2 | 01/12/2017 | 204 | 1 | -5.5 | 38 | 0.8 | 2000 | -17.6 | 0 | 0 | 0 | Winter | No Holiday | Yes |\n",
       "| 3 | 01/12/2017 | 173 | 2 | -6.0 | 39 | 1.0 | 2000 | -17.7 | 0 | 0 | 0 | Winter | No Holiday | Yes |\n",
       "\n"
      ],
      "text/plain": [
       "  DATE       RENTED_BIKE_COUNT HOUR TEMPERATURE HUMIDITY WIND_SPEED VISIBILITY\n",
       "1 01/12/2017 254               0    -5.2        37       2.2        2000      \n",
       "2 01/12/2017 204               1    -5.5        38       0.8        2000      \n",
       "3 01/12/2017 173               2    -6.0        39       1.0        2000      \n",
       "  DEW_POINT_TEMPERATURE SOLAR_RADIATION RAINFALL SNOWFALL SEASONS HOLIDAY   \n",
       "1 -17.6                 0               0        0        Winter  No Holiday\n",
       "2 -17.6                 0               0        0        Winter  No Holiday\n",
       "3 -17.7                 0               0        0        Winter  No Holiday\n",
       "  FUNCTIONING_DAY\n",
       "1 Yes            \n",
       "2 Yes            \n",
       "3 Yes            "
      ]
     },
     "metadata": {},
     "output_type": "display_data"
    }
   ],
   "source": [
    "sqlQuery(conn,\"select * from seoul_bike_sharing \n",
    "limit 3;\")"
   ]
  },
  {
   "cell_type": "markdown",
   "metadata": {},
   "source": [
    "### Solution 2\n"
   ]
  },
  {
   "cell_type": "code",
   "execution_count": 21,
   "metadata": {
    "scrolled": true
   },
   "outputs": [
    {
     "data": {
      "text/html": [
       "<table>\n",
       "<caption>A data.frame: 1 × 1</caption>\n",
       "<thead>\n",
       "\t<tr><th></th><th scope=col>COUNT</th></tr>\n",
       "\t<tr><th></th><th scope=col>&lt;int&gt;</th></tr>\n",
       "</thead>\n",
       "<tbody>\n",
       "\t<tr><th scope=row>1</th><td>8465</td></tr>\n",
       "</tbody>\n",
       "</table>\n"
      ],
      "text/latex": [
       "A data.frame: 1 × 1\n",
       "\\begin{tabular}{r|l}\n",
       "  & COUNT\\\\\n",
       "  & <int>\\\\\n",
       "\\hline\n",
       "\t1 & 8465\\\\\n",
       "\\end{tabular}\n"
      ],
      "text/markdown": [
       "\n",
       "A data.frame: 1 × 1\n",
       "\n",
       "| <!--/--> | COUNT &lt;int&gt; |\n",
       "|---|---|\n",
       "| 1 | 8465 |\n",
       "\n"
      ],
      "text/plain": [
       "  COUNT\n",
       "1 8465 "
      ]
     },
     "metadata": {},
     "output_type": "display_data"
    }
   ],
   "source": [
    "# provide your solution here\n",
    "sqlQuery(conn,\"select count(HOUR) as count from seoul_bike_sharing\n",
    "where RENTED_BIKE_COUNT != 0;\")"
   ]
  },
  {
   "cell_type": "markdown",
   "metadata": {},
   "source": [
    "## Task 3 - Weather Outlook\n",
    "\n",
    "#### Query the the weather forecast for Seoul over the next 3 hours.\n",
    "\n",
    "Recall that the records in the CITIES_WEATHER_FORECAST dataset are 3 hours apart, so we just need the first record from the query.\n"
   ]
  },
  {
   "cell_type": "code",
   "execution_count": 24,
   "metadata": {},
   "outputs": [
    {
     "data": {
      "text/html": [
       "<table>\n",
       "<caption>A data.frame: 3 × 12</caption>\n",
       "<thead>\n",
       "\t<tr><th></th><th scope=col>CITY</th><th scope=col>WEATHER</th><th scope=col>VISIBILITY</th><th scope=col>TEMP</th><th scope=col>TEMP_MIN</th><th scope=col>TEMP_MAX</th><th scope=col>PRESSURE</th><th scope=col>HUMIDITY</th><th scope=col>WIND_SPEED</th><th scope=col>WIND_DEG</th><th scope=col>SEASON</th><th scope=col>FORECAST_DATETIME</th></tr>\n",
       "\t<tr><th></th><th scope=col>&lt;fct&gt;</th><th scope=col>&lt;fct&gt;</th><th scope=col>&lt;int&gt;</th><th scope=col>&lt;dbl&gt;</th><th scope=col>&lt;dbl&gt;</th><th scope=col>&lt;dbl&gt;</th><th scope=col>&lt;int&gt;</th><th scope=col>&lt;int&gt;</th><th scope=col>&lt;dbl&gt;</th><th scope=col>&lt;int&gt;</th><th scope=col>&lt;fct&gt;</th><th scope=col>&lt;dttm&gt;</th></tr>\n",
       "</thead>\n",
       "<tbody>\n",
       "\t<tr><th scope=row>1</th><td>Seoul</td><td>Clear </td><td>10000</td><td>12.32</td><td>10.91</td><td>12.32</td><td>1015</td><td>50</td><td>2.18</td><td>248</td><td>Spring</td><td>2021-04-16 12:00:00</td></tr>\n",
       "\t<tr><th scope=row>2</th><td>Seoul</td><td>Clear </td><td>10000</td><td>11.48</td><td> 9.81</td><td>11.48</td><td>1016</td><td>48</td><td>1.25</td><td>142</td><td>Spring</td><td>2021-04-16 15:00:00</td></tr>\n",
       "\t<tr><th scope=row>3</th><td>Seoul</td><td>Clouds</td><td>10000</td><td> 9.99</td><td> 8.82</td><td> 9.99</td><td>1015</td><td>46</td><td>0.94</td><td>130</td><td>Spring</td><td>2021-04-16 18:00:00</td></tr>\n",
       "</tbody>\n",
       "</table>\n"
      ],
      "text/latex": [
       "A data.frame: 3 × 12\n",
       "\\begin{tabular}{r|llllllllllll}\n",
       "  & CITY & WEATHER & VISIBILITY & TEMP & TEMP\\_MIN & TEMP\\_MAX & PRESSURE & HUMIDITY & WIND\\_SPEED & WIND\\_DEG & SEASON & FORECAST\\_DATETIME\\\\\n",
       "  & <fct> & <fct> & <int> & <dbl> & <dbl> & <dbl> & <int> & <int> & <dbl> & <int> & <fct> & <dttm>\\\\\n",
       "\\hline\n",
       "\t1 & Seoul & Clear  & 10000 & 12.32 & 10.91 & 12.32 & 1015 & 50 & 2.18 & 248 & Spring & 2021-04-16 12:00:00\\\\\n",
       "\t2 & Seoul & Clear  & 10000 & 11.48 &  9.81 & 11.48 & 1016 & 48 & 1.25 & 142 & Spring & 2021-04-16 15:00:00\\\\\n",
       "\t3 & Seoul & Clouds & 10000 &  9.99 &  8.82 &  9.99 & 1015 & 46 & 0.94 & 130 & Spring & 2021-04-16 18:00:00\\\\\n",
       "\\end{tabular}\n"
      ],
      "text/markdown": [
       "\n",
       "A data.frame: 3 × 12\n",
       "\n",
       "| <!--/--> | CITY &lt;fct&gt; | WEATHER &lt;fct&gt; | VISIBILITY &lt;int&gt; | TEMP &lt;dbl&gt; | TEMP_MIN &lt;dbl&gt; | TEMP_MAX &lt;dbl&gt; | PRESSURE &lt;int&gt; | HUMIDITY &lt;int&gt; | WIND_SPEED &lt;dbl&gt; | WIND_DEG &lt;int&gt; | SEASON &lt;fct&gt; | FORECAST_DATETIME &lt;dttm&gt; |\n",
       "|---|---|---|---|---|---|---|---|---|---|---|---|---|\n",
       "| 1 | Seoul | Clear  | 10000 | 12.32 | 10.91 | 12.32 | 1015 | 50 | 2.18 | 248 | Spring | 2021-04-16 12:00:00 |\n",
       "| 2 | Seoul | Clear  | 10000 | 11.48 |  9.81 | 11.48 | 1016 | 48 | 1.25 | 142 | Spring | 2021-04-16 15:00:00 |\n",
       "| 3 | Seoul | Clouds | 10000 |  9.99 |  8.82 |  9.99 | 1015 | 46 | 0.94 | 130 | Spring | 2021-04-16 18:00:00 |\n",
       "\n"
      ],
      "text/plain": [
       "  CITY  WEATHER VISIBILITY TEMP  TEMP_MIN TEMP_MAX PRESSURE HUMIDITY WIND_SPEED\n",
       "1 Seoul Clear   10000      12.32 10.91    12.32    1015     50       2.18      \n",
       "2 Seoul Clear   10000      11.48  9.81    11.48    1016     48       1.25      \n",
       "3 Seoul Clouds  10000       9.99  8.82     9.99    1015     46       0.94      \n",
       "  WIND_DEG SEASON FORECAST_DATETIME  \n",
       "1 248      Spring 2021-04-16 12:00:00\n",
       "2 142      Spring 2021-04-16 15:00:00\n",
       "3 130      Spring 2021-04-16 18:00:00"
      ]
     },
     "metadata": {},
     "output_type": "display_data"
    }
   ],
   "source": [
    "sqlQuery(conn,\"select * from CITIES_WEATHER_FORECAST \n",
    "limit 3;\")"
   ]
  },
  {
   "cell_type": "markdown",
   "metadata": {},
   "source": [
    "### Solution 3\n"
   ]
  },
  {
   "cell_type": "code",
   "execution_count": 25,
   "metadata": {},
   "outputs": [
    {
     "data": {
      "text/html": [
       "<table>\n",
       "<caption>A data.frame: 1 × 12</caption>\n",
       "<thead>\n",
       "\t<tr><th></th><th scope=col>CITY</th><th scope=col>WEATHER</th><th scope=col>VISIBILITY</th><th scope=col>TEMP</th><th scope=col>TEMP_MIN</th><th scope=col>TEMP_MAX</th><th scope=col>PRESSURE</th><th scope=col>HUMIDITY</th><th scope=col>WIND_SPEED</th><th scope=col>WIND_DEG</th><th scope=col>SEASON</th><th scope=col>FORECAST_DATETIME</th></tr>\n",
       "\t<tr><th></th><th scope=col>&lt;fct&gt;</th><th scope=col>&lt;fct&gt;</th><th scope=col>&lt;int&gt;</th><th scope=col>&lt;dbl&gt;</th><th scope=col>&lt;dbl&gt;</th><th scope=col>&lt;dbl&gt;</th><th scope=col>&lt;int&gt;</th><th scope=col>&lt;int&gt;</th><th scope=col>&lt;dbl&gt;</th><th scope=col>&lt;int&gt;</th><th scope=col>&lt;fct&gt;</th><th scope=col>&lt;dttm&gt;</th></tr>\n",
       "</thead>\n",
       "<tbody>\n",
       "\t<tr><th scope=row>1</th><td>Seoul</td><td>Clear</td><td>10000</td><td>12.32</td><td>10.91</td><td>12.32</td><td>1015</td><td>50</td><td>2.18</td><td>248</td><td>Spring</td><td>2021-04-16 12:00:00</td></tr>\n",
       "</tbody>\n",
       "</table>\n"
      ],
      "text/latex": [
       "A data.frame: 1 × 12\n",
       "\\begin{tabular}{r|llllllllllll}\n",
       "  & CITY & WEATHER & VISIBILITY & TEMP & TEMP\\_MIN & TEMP\\_MAX & PRESSURE & HUMIDITY & WIND\\_SPEED & WIND\\_DEG & SEASON & FORECAST\\_DATETIME\\\\\n",
       "  & <fct> & <fct> & <int> & <dbl> & <dbl> & <dbl> & <int> & <int> & <dbl> & <int> & <fct> & <dttm>\\\\\n",
       "\\hline\n",
       "\t1 & Seoul & Clear & 10000 & 12.32 & 10.91 & 12.32 & 1015 & 50 & 2.18 & 248 & Spring & 2021-04-16 12:00:00\\\\\n",
       "\\end{tabular}\n"
      ],
      "text/markdown": [
       "\n",
       "A data.frame: 1 × 12\n",
       "\n",
       "| <!--/--> | CITY &lt;fct&gt; | WEATHER &lt;fct&gt; | VISIBILITY &lt;int&gt; | TEMP &lt;dbl&gt; | TEMP_MIN &lt;dbl&gt; | TEMP_MAX &lt;dbl&gt; | PRESSURE &lt;int&gt; | HUMIDITY &lt;int&gt; | WIND_SPEED &lt;dbl&gt; | WIND_DEG &lt;int&gt; | SEASON &lt;fct&gt; | FORECAST_DATETIME &lt;dttm&gt; |\n",
       "|---|---|---|---|---|---|---|---|---|---|---|---|---|\n",
       "| 1 | Seoul | Clear | 10000 | 12.32 | 10.91 | 12.32 | 1015 | 50 | 2.18 | 248 | Spring | 2021-04-16 12:00:00 |\n",
       "\n"
      ],
      "text/plain": [
       "  CITY  WEATHER VISIBILITY TEMP  TEMP_MIN TEMP_MAX PRESSURE HUMIDITY WIND_SPEED\n",
       "1 Seoul Clear   10000      12.32 10.91    12.32    1015     50       2.18      \n",
       "  WIND_DEG SEASON FORECAST_DATETIME  \n",
       "1 248      Spring 2021-04-16 12:00:00"
      ]
     },
     "metadata": {},
     "output_type": "display_data"
    }
   ],
   "source": [
    "# provide your solution here\n",
    "sqlQuery(conn,\"select * from CITIES_WEATHER_FORECAST \n",
    "limit 1;\")"
   ]
  },
  {
   "cell_type": "markdown",
   "metadata": {},
   "source": [
    "## Task 4 - Seasons\n",
    "\n",
    "#### Find which seasons are included in the seoul bike sharing dataset.\n"
   ]
  },
  {
   "cell_type": "markdown",
   "metadata": {},
   "source": [
    "### Solution 4\n"
   ]
  },
  {
   "cell_type": "code",
   "execution_count": 8,
   "metadata": {},
   "outputs": [
    {
     "data": {
      "text/html": [
       "<table>\n",
       "<caption>A data.frame: 4 × 1</caption>\n",
       "<thead>\n",
       "\t<tr><th></th><th scope=col>SEASONS</th></tr>\n",
       "\t<tr><th></th><th scope=col>&lt;fct&gt;</th></tr>\n",
       "</thead>\n",
       "<tbody>\n",
       "\t<tr><th scope=row>1</th><td>Autumn</td></tr>\n",
       "\t<tr><th scope=row>2</th><td>Spring</td></tr>\n",
       "\t<tr><th scope=row>3</th><td>Summer</td></tr>\n",
       "\t<tr><th scope=row>4</th><td>Winter</td></tr>\n",
       "</tbody>\n",
       "</table>\n"
      ],
      "text/latex": [
       "A data.frame: 4 × 1\n",
       "\\begin{tabular}{r|l}\n",
       "  & SEASONS\\\\\n",
       "  & <fct>\\\\\n",
       "\\hline\n",
       "\t1 & Autumn\\\\\n",
       "\t2 & Spring\\\\\n",
       "\t3 & Summer\\\\\n",
       "\t4 & Winter\\\\\n",
       "\\end{tabular}\n"
      ],
      "text/markdown": [
       "\n",
       "A data.frame: 4 × 1\n",
       "\n",
       "| <!--/--> | SEASONS &lt;fct&gt; |\n",
       "|---|---|\n",
       "| 1 | Autumn |\n",
       "| 2 | Spring |\n",
       "| 3 | Summer |\n",
       "| 4 | Winter |\n",
       "\n"
      ],
      "text/plain": [
       "  SEASONS\n",
       "1 Autumn \n",
       "2 Spring \n",
       "3 Summer \n",
       "4 Winter "
      ]
     },
     "metadata": {},
     "output_type": "display_data"
    }
   ],
   "source": [
    "# provide your solution here\n",
    "sqlQuery(conn,\"select SEASONS from seoul_bike_sharing \n",
    "group by SEASONS;\")"
   ]
  },
  {
   "cell_type": "markdown",
   "metadata": {},
   "source": [
    "## Task 5 - Date Range\n",
    "\n",
    "#### Find the first and last dates in the Seoul Bike Sharing dataset.\n"
   ]
  },
  {
   "cell_type": "markdown",
   "metadata": {},
   "source": [
    "### Solution 5\n"
   ]
  },
  {
   "cell_type": "code",
   "execution_count": 10,
   "metadata": {},
   "outputs": [
    {
     "data": {
      "text/html": [
       "<table>\n",
       "<caption>A data.frame: 1 × 1</caption>\n",
       "<thead>\n",
       "\t<tr><th></th><th scope=col>FIRTST_DATE</th></tr>\n",
       "\t<tr><th></th><th scope=col>&lt;fct&gt;</th></tr>\n",
       "</thead>\n",
       "<tbody>\n",
       "\t<tr><th scope=row>1</th><td>01/12/2017</td></tr>\n",
       "</tbody>\n",
       "</table>\n"
      ],
      "text/latex": [
       "A data.frame: 1 × 1\n",
       "\\begin{tabular}{r|l}\n",
       "  & FIRTST\\_DATE\\\\\n",
       "  & <fct>\\\\\n",
       "\\hline\n",
       "\t1 & 01/12/2017\\\\\n",
       "\\end{tabular}\n"
      ],
      "text/markdown": [
       "\n",
       "A data.frame: 1 × 1\n",
       "\n",
       "| <!--/--> | FIRTST_DATE &lt;fct&gt; |\n",
       "|---|---|\n",
       "| 1 | 01/12/2017 |\n",
       "\n"
      ],
      "text/plain": [
       "  FIRTST_DATE\n",
       "1 01/12/2017 "
      ]
     },
     "metadata": {},
     "output_type": "display_data"
    },
    {
     "data": {
      "text/html": [
       "<table>\n",
       "<caption>A data.frame: 1 × 1</caption>\n",
       "<thead>\n",
       "\t<tr><th></th><th scope=col>LAST_DATE</th></tr>\n",
       "\t<tr><th></th><th scope=col>&lt;fct&gt;</th></tr>\n",
       "</thead>\n",
       "<tbody>\n",
       "\t<tr><th scope=row>1</th><td>01/09/2018</td></tr>\n",
       "</tbody>\n",
       "</table>\n"
      ],
      "text/latex": [
       "A data.frame: 1 × 1\n",
       "\\begin{tabular}{r|l}\n",
       "  & LAST\\_DATE\\\\\n",
       "  & <fct>\\\\\n",
       "\\hline\n",
       "\t1 & 01/09/2018\\\\\n",
       "\\end{tabular}\n"
      ],
      "text/markdown": [
       "\n",
       "A data.frame: 1 × 1\n",
       "\n",
       "| <!--/--> | LAST_DATE &lt;fct&gt; |\n",
       "|---|---|\n",
       "| 1 | 01/09/2018 |\n",
       "\n"
      ],
      "text/plain": [
       "  LAST_DATE \n",
       "1 01/09/2018"
      ]
     },
     "metadata": {},
     "output_type": "display_data"
    }
   ],
   "source": [
    "# provide your solution here\n",
    "sqlQuery(conn,\"select DATE AS FIRTST_DATE from seoul_bike_sharing \n",
    "ORDER BY SEASONS DESC LIMIT 1;\")\n",
    "sqlQuery(conn,\"select DATE AS LAST_DATE from seoul_bike_sharing \n",
    "ORDER BY SEASONS ASC LIMIT 1;\")"
   ]
  },
  {
   "cell_type": "markdown",
   "metadata": {},
   "source": [
    "## Task 6 - Subquery - 'all-time high'\n",
    "\n",
    "#### determine which date and hour had the most bike rentals.\n"
   ]
  },
  {
   "cell_type": "code",
   "execution_count": 14,
   "metadata": {},
   "outputs": [
    {
     "data": {
      "text/html": [
       "<table>\n",
       "<caption>A data.frame: 1 × 3</caption>\n",
       "<thead>\n",
       "\t<tr><th></th><th scope=col>DATE</th><th scope=col>HOUR</th><th scope=col>RENTED_BIKE_COUNT</th></tr>\n",
       "\t<tr><th></th><th scope=col>&lt;fct&gt;</th><th scope=col>&lt;int&gt;</th><th scope=col>&lt;int&gt;</th></tr>\n",
       "</thead>\n",
       "<tbody>\n",
       "\t<tr><th scope=row>1</th><td>19/06/2018</td><td>18</td><td>3556</td></tr>\n",
       "</tbody>\n",
       "</table>\n"
      ],
      "text/latex": [
       "A data.frame: 1 × 3\n",
       "\\begin{tabular}{r|lll}\n",
       "  & DATE & HOUR & RENTED\\_BIKE\\_COUNT\\\\\n",
       "  & <fct> & <int> & <int>\\\\\n",
       "\\hline\n",
       "\t1 & 19/06/2018 & 18 & 3556\\\\\n",
       "\\end{tabular}\n"
      ],
      "text/markdown": [
       "\n",
       "A data.frame: 1 × 3\n",
       "\n",
       "| <!--/--> | DATE &lt;fct&gt; | HOUR &lt;int&gt; | RENTED_BIKE_COUNT &lt;int&gt; |\n",
       "|---|---|---|---|\n",
       "| 1 | 19/06/2018 | 18 | 3556 |\n",
       "\n"
      ],
      "text/plain": [
       "  DATE       HOUR RENTED_BIKE_COUNT\n",
       "1 19/06/2018 18   3556             "
      ]
     },
     "metadata": {},
     "output_type": "display_data"
    }
   ],
   "source": [
    "# provide your solution here\n",
    "sqlQuery(conn,\"select DATE, HOUR,RENTED_BIKE_COUNT from seoul_bike_sharing \n",
    "               where RENTED_BIKE_COUNT = (select MAX(RENTED_BIKE_COUNT)\n",
    "               from seoul_bike_sharing ) \")"
   ]
  },
  {
   "cell_type": "markdown",
   "metadata": {},
   "source": [
    "### Solution 6\n"
   ]
  },
  {
   "cell_type": "markdown",
   "metadata": {},
   "source": [
    "## Task 7 - Hourly popularity and temperature by season\n",
    "\n",
    "#### Determine the average hourly temperature and the average number of bike rentals per hour over each season. List the top ten results by average bike count.\n"
   ]
  },
  {
   "cell_type": "markdown",
   "metadata": {},
   "source": [
    "### Solution 7\n"
   ]
  },
  {
   "cell_type": "code",
   "execution_count": 13,
   "metadata": {},
   "outputs": [
    {
     "data": {
      "text/html": [
       "<table>\n",
       "<caption>A data.frame: 4 × 2</caption>\n",
       "<thead>\n",
       "\t<tr><th></th><th scope=col>1</th><th scope=col>2</th></tr>\n",
       "\t<tr><th></th><th scope=col>&lt;int&gt;</th><th scope=col>&lt;dbl&gt;</th></tr>\n",
       "</thead>\n",
       "<tbody>\n",
       "\t<tr><th scope=row>1</th><td> 924</td><td>13.821167</td></tr>\n",
       "\t<tr><th scope=row>2</th><td> 746</td><td>13.021389</td></tr>\n",
       "\t<tr><th scope=row>3</th><td>1034</td><td>26.587274</td></tr>\n",
       "\t<tr><th scope=row>4</th><td> 225</td><td>-2.540463</td></tr>\n",
       "</tbody>\n",
       "</table>\n"
      ],
      "text/latex": [
       "A data.frame: 4 × 2\n",
       "\\begin{tabular}{r|ll}\n",
       "  & 1 & 2\\\\\n",
       "  & <int> & <dbl>\\\\\n",
       "\\hline\n",
       "\t1 &  924 & 13.821167\\\\\n",
       "\t2 &  746 & 13.021389\\\\\n",
       "\t3 & 1034 & 26.587274\\\\\n",
       "\t4 &  225 & -2.540463\\\\\n",
       "\\end{tabular}\n"
      ],
      "text/markdown": [
       "\n",
       "A data.frame: 4 × 2\n",
       "\n",
       "| <!--/--> | 1 &lt;int&gt; | 2 &lt;dbl&gt; |\n",
       "|---|---|---|\n",
       "| 1 |  924 | 13.821167 |\n",
       "| 2 |  746 | 13.021389 |\n",
       "| 3 | 1034 | 26.587274 |\n",
       "| 4 |  225 | -2.540463 |\n",
       "\n"
      ],
      "text/plain": [
       "  1    2        \n",
       "1  924 13.821167\n",
       "2  746 13.021389\n",
       "3 1034 26.587274\n",
       "4  225 -2.540463"
      ]
     },
     "metadata": {},
     "output_type": "display_data"
    }
   ],
   "source": [
    "# provide your solution here\n",
    "sqlQuery(conn,\"select avg(RENTED_BIKE_COUNT),avg(TEMPERATURE)\n",
    "               from seoul_bike_sharing\n",
    "               GROUP BY SEASONS\n",
    "               LIMIT 10;\")\n",
    "               "
   ]
  },
  {
   "cell_type": "markdown",
   "metadata": {},
   "source": [
    "## Task 8 - Rental Seasonality\n",
    "\n",
    "#### Find the average hourly bike count during each season.\n",
    "\n",
    "Also include the minimum, maximum, and standard deviation of the hourly bike count for each season.\n"
   ]
  },
  {
   "cell_type": "markdown",
   "metadata": {},
   "source": [
    "### Solution 8\n"
   ]
  },
  {
   "cell_type": "code",
   "execution_count": 16,
   "metadata": {},
   "outputs": [
    {
     "data": {
      "text/html": [
       "<table>\n",
       "<caption>A data.frame: 4 × 4</caption>\n",
       "<thead>\n",
       "\t<tr><th></th><th scope=col>RENDED_AVG</th><th scope=col>RENDED_MIN</th><th scope=col>RENDED_MAX</th><th scope=col>SEASONS</th></tr>\n",
       "\t<tr><th></th><th scope=col>&lt;int&gt;</th><th scope=col>&lt;int&gt;</th><th scope=col>&lt;int&gt;</th><th scope=col>&lt;fct&gt;</th></tr>\n",
       "</thead>\n",
       "<tbody>\n",
       "\t<tr><th scope=row>1</th><td> 924</td><td>2</td><td>3298</td><td>Autumn</td></tr>\n",
       "\t<tr><th scope=row>2</th><td> 746</td><td>2</td><td>3251</td><td>Spring</td></tr>\n",
       "\t<tr><th scope=row>3</th><td>1034</td><td>9</td><td>3556</td><td>Summer</td></tr>\n",
       "\t<tr><th scope=row>4</th><td> 225</td><td>3</td><td> 937</td><td>Winter</td></tr>\n",
       "</tbody>\n",
       "</table>\n"
      ],
      "text/latex": [
       "A data.frame: 4 × 4\n",
       "\\begin{tabular}{r|llll}\n",
       "  & RENDED\\_AVG & RENDED\\_MIN & RENDED\\_MAX & SEASONS\\\\\n",
       "  & <int> & <int> & <int> & <fct>\\\\\n",
       "\\hline\n",
       "\t1 &  924 & 2 & 3298 & Autumn\\\\\n",
       "\t2 &  746 & 2 & 3251 & Spring\\\\\n",
       "\t3 & 1034 & 9 & 3556 & Summer\\\\\n",
       "\t4 &  225 & 3 &  937 & Winter\\\\\n",
       "\\end{tabular}\n"
      ],
      "text/markdown": [
       "\n",
       "A data.frame: 4 × 4\n",
       "\n",
       "| <!--/--> | RENDED_AVG &lt;int&gt; | RENDED_MIN &lt;int&gt; | RENDED_MAX &lt;int&gt; | SEASONS &lt;fct&gt; |\n",
       "|---|---|---|---|---|\n",
       "| 1 |  924 | 2 | 3298 | Autumn |\n",
       "| 2 |  746 | 2 | 3251 | Spring |\n",
       "| 3 | 1034 | 9 | 3556 | Summer |\n",
       "| 4 |  225 | 3 |  937 | Winter |\n",
       "\n"
      ],
      "text/plain": [
       "  RENDED_AVG RENDED_MIN RENDED_MAX SEASONS\n",
       "1  924       2          3298       Autumn \n",
       "2  746       2          3251       Spring \n",
       "3 1034       9          3556       Summer \n",
       "4  225       3           937       Winter "
      ]
     },
     "metadata": {},
     "output_type": "display_data"
    }
   ],
   "source": [
    "# provide your solution here\n",
    "sqlQuery(conn,\"select avg(RENTED_BIKE_COUNT) AS RENDED_AVG, MIN(RENTED_BIKE_COUNT) AS RENDED_MIN,\n",
    "               MAX(RENTED_BIKE_COUNT) AS RENDED_MAX, SEASONS from seoul_bike_sharing\n",
    "               GROUP BY SEASONS;)\");"
   ]
  },
  {
   "cell_type": "markdown",
   "metadata": {},
   "source": [
    "Let's explore a bit and see what might be the most significant contributing factors in terms of the provided data.\n"
   ]
  },
  {
   "cell_type": "markdown",
   "metadata": {},
   "source": [
    "CITIES_WEATHER_FORECAST## Task 9 - Weather Seasonality\n",
    "\n",
    "#### Consider the weather over each season. On average, what were the TEMPERATURE, HUMIDITY, WIND_SPEED, VISIBILITY, DEW_POINT_TEMPERATURE, SOLAR_RADIATION, RAINFALL, and SNOWFALL per season?\n",
    "\n",
    "Include the average bike count as well , and rank the results by average bike count so you can see if it is correlated with the weather at all.\n"
   ]
  },
  {
   "cell_type": "markdown",
   "metadata": {},
   "source": [
    "### Solution 9\n"
   ]
  },
  {
   "cell_type": "code",
   "execution_count": 26,
   "metadata": {},
   "outputs": [
    {
     "data": {
      "text/html": [
       "<table>\n",
       "<caption>A data.frame: 4 × 9</caption>\n",
       "<thead>\n",
       "\t<tr><th></th><th scope=col>AVG_TEMP</th><th scope=col>AVG_HUMID</th><th scope=col>AVG_WIND_SPEED</th><th scope=col>AVG_VISIBILITY</th><th scope=col>AVG_DEW_TEMP</th><th scope=col>AVG_SOLAR_RAD</th><th scope=col>AVG_RAIN</th><th scope=col>AVG_SNOW</th><th scope=col>SEASONS</th></tr>\n",
       "\t<tr><th></th><th scope=col>&lt;dbl&gt;</th><th scope=col>&lt;int&gt;</th><th scope=col>&lt;dbl&gt;</th><th scope=col>&lt;int&gt;</th><th scope=col>&lt;dbl&gt;</th><th scope=col>&lt;dbl&gt;</th><th scope=col>&lt;dbl&gt;</th><th scope=col>&lt;dbl&gt;</th><th scope=col>&lt;fct&gt;</th></tr>\n",
       "</thead>\n",
       "<tbody>\n",
       "\t<tr><th scope=row>1</th><td>13.821167</td><td>59</td><td>1.492101</td><td>1558</td><td>  5.150594</td><td>0.5227827</td><td>0.11765617</td><td>0.06350026</td><td>Autumn</td></tr>\n",
       "\t<tr><th scope=row>2</th><td>13.021389</td><td>58</td><td>1.857778</td><td>1240</td><td>  4.091389</td><td>0.6803009</td><td>0.18694444</td><td>0.00000000</td><td>Spring</td></tr>\n",
       "\t<tr><th scope=row>3</th><td>26.587274</td><td>64</td><td>1.609420</td><td>1501</td><td> 18.750136</td><td>0.7612545</td><td>0.25348732</td><td>0.00000000</td><td>Summer</td></tr>\n",
       "\t<tr><th scope=row>4</th><td>-2.540463</td><td>49</td><td>1.922685</td><td>1445</td><td>-12.416667</td><td>0.2981806</td><td>0.03282407</td><td>0.24750000</td><td>Winter</td></tr>\n",
       "</tbody>\n",
       "</table>\n"
      ],
      "text/latex": [
       "A data.frame: 4 × 9\n",
       "\\begin{tabular}{r|lllllllll}\n",
       "  & AVG\\_TEMP & AVG\\_HUMID & AVG\\_WIND\\_SPEED & AVG\\_VISIBILITY & AVG\\_DEW\\_TEMP & AVG\\_SOLAR\\_RAD & AVG\\_RAIN & AVG\\_SNOW & SEASONS\\\\\n",
       "  & <dbl> & <int> & <dbl> & <int> & <dbl> & <dbl> & <dbl> & <dbl> & <fct>\\\\\n",
       "\\hline\n",
       "\t1 & 13.821167 & 59 & 1.492101 & 1558 &   5.150594 & 0.5227827 & 0.11765617 & 0.06350026 & Autumn\\\\\n",
       "\t2 & 13.021389 & 58 & 1.857778 & 1240 &   4.091389 & 0.6803009 & 0.18694444 & 0.00000000 & Spring\\\\\n",
       "\t3 & 26.587274 & 64 & 1.609420 & 1501 &  18.750136 & 0.7612545 & 0.25348732 & 0.00000000 & Summer\\\\\n",
       "\t4 & -2.540463 & 49 & 1.922685 & 1445 & -12.416667 & 0.2981806 & 0.03282407 & 0.24750000 & Winter\\\\\n",
       "\\end{tabular}\n"
      ],
      "text/markdown": [
       "\n",
       "A data.frame: 4 × 9\n",
       "\n",
       "| <!--/--> | AVG_TEMP &lt;dbl&gt; | AVG_HUMID &lt;int&gt; | AVG_WIND_SPEED &lt;dbl&gt; | AVG_VISIBILITY &lt;int&gt; | AVG_DEW_TEMP &lt;dbl&gt; | AVG_SOLAR_RAD &lt;dbl&gt; | AVG_RAIN &lt;dbl&gt; | AVG_SNOW &lt;dbl&gt; | SEASONS &lt;fct&gt; |\n",
       "|---|---|---|---|---|---|---|---|---|---|\n",
       "| 1 | 13.821167 | 59 | 1.492101 | 1558 |   5.150594 | 0.5227827 | 0.11765617 | 0.06350026 | Autumn |\n",
       "| 2 | 13.021389 | 58 | 1.857778 | 1240 |   4.091389 | 0.6803009 | 0.18694444 | 0.00000000 | Spring |\n",
       "| 3 | 26.587274 | 64 | 1.609420 | 1501 |  18.750136 | 0.7612545 | 0.25348732 | 0.00000000 | Summer |\n",
       "| 4 | -2.540463 | 49 | 1.922685 | 1445 | -12.416667 | 0.2981806 | 0.03282407 | 0.24750000 | Winter |\n",
       "\n"
      ],
      "text/plain": [
       "  AVG_TEMP  AVG_HUMID AVG_WIND_SPEED AVG_VISIBILITY AVG_DEW_TEMP AVG_SOLAR_RAD\n",
       "1 13.821167 59        1.492101       1558             5.150594   0.5227827    \n",
       "2 13.021389 58        1.857778       1240             4.091389   0.6803009    \n",
       "3 26.587274 64        1.609420       1501            18.750136   0.7612545    \n",
       "4 -2.540463 49        1.922685       1445           -12.416667   0.2981806    \n",
       "  AVG_RAIN   AVG_SNOW   SEASONS\n",
       "1 0.11765617 0.06350026 Autumn \n",
       "2 0.18694444 0.00000000 Spring \n",
       "3 0.25348732 0.00000000 Summer \n",
       "4 0.03282407 0.24750000 Winter "
      ]
     },
     "metadata": {},
     "output_type": "display_data"
    }
   ],
   "source": [
    "query <- sqlQuery(conn,\"select AVG(TEMPERATURE) AS avg_temp, AVG(HUMIDITY) as avg_humid, AVG(WIND_SPEED) as avg_wind_speed,\n",
    "    AVG(VISIBILITY) as avg_visibility, AVG(DEW_POINT_TEMPERATURE) as avg_dew_temp, \n",
    "    AVG(SOLAR_RADIATION)as avg_solar_rad,AVG(RAINFALL) as avg_rain, AVG(SNOWFALL)as avg_snow,SEASONS \n",
    "    from seoul_bike_sharing GROUP BY SEASONS ;\")\n",
    "# provide your solution here"
   ]
  },
  {
   "cell_type": "code",
   "execution_count": 18,
   "metadata": {},
   "outputs": [
    {
     "data": {
      "text/html": [
       "<style>\n",
       ".list-inline {list-style: none; margin:0; padding: 0}\n",
       ".list-inline>li {display: inline-block}\n",
       ".list-inline>li:not(:last-child)::after {content: \"\\00b7\"; padding: 0 .5ex}\n",
       "</style>\n",
       "<ol class=list-inline><li><span style=white-space:pre-wrap>'42S22 -206 [IBM][CLI Driver][DB2/LINUXX8664] SQL0206N  \"SEASONS\" is not valid in the context where it is used.  SQLSTATE=42703\\n'</span></li><li><span style=white-space:pre-wrap>'[RODBC] ERROR: Could not SQLExecDirect \\'select AVG(TEMPERATURE), AVG(HUMIDITY), AVG(WIND_SPEED),AVG(VISIBILITY),\\n                    AVG(DEW_POINT_TEMPERATURE), AVG(SOLAR_RADIATION), AVG(RAINFALL), AVG(SNOWFALL) \\n                    from CITIES_WEATHER_FORECAST GROUP BY SEASONS;\\''</span></li></ol>\n"
      ],
      "text/latex": [
       "\\begin{enumerate*}\n",
       "\\item '42S22 -206 {[}IBM{]}{[}CLI Driver{]}{[}DB2/LINUXX8664{]} SQL0206N  \"SEASONS\" is not valid in the context where it is used.  SQLSTATE=42703\\textbackslash{}n'\n",
       "\\item '{[}RODBC{]} ERROR: Could not SQLExecDirect \\textbackslash{}'select AVG(TEMPERATURE), AVG(HUMIDITY), AVG(WIND\\_SPEED),AVG(VISIBILITY),\\textbackslash{}n                    AVG(DEW\\_POINT\\_TEMPERATURE), AVG(SOLAR\\_RADIATION), AVG(RAINFALL), AVG(SNOWFALL) \\textbackslash{}n                    from CITIES\\_WEATHER\\_FORECAST GROUP BY SEASONS;\\textbackslash{}''\n",
       "\\end{enumerate*}\n"
      ],
      "text/markdown": [
       "1. <span style=white-space:pre-wrap>'42S22 -206 [IBM][CLI Driver][DB2/LINUXX8664] SQL0206N  \"SEASONS\" is not valid in the context where it is used.  SQLSTATE=42703\\n'</span>\n",
       "2. <span style=white-space:pre-wrap>'[RODBC] ERROR: Could not SQLExecDirect \\'select AVG(TEMPERATURE), AVG(HUMIDITY), AVG(WIND_SPEED),AVG(VISIBILITY),\\n                    AVG(DEW_POINT_TEMPERATURE), AVG(SOLAR_RADIATION), AVG(RAINFALL), AVG(SNOWFALL) \\n                    from CITIES_WEATHER_FORECAST GROUP BY SEASONS;\\''</span>\n",
       "\n",
       "\n"
      ],
      "text/plain": [
       "[1] \"42S22 -206 [IBM][CLI Driver][DB2/LINUXX8664] SQL0206N  \\\"SEASONS\\\" is not valid in the context where it is used.  SQLSTATE=42703\\n\"                                                                                                                                                        \n",
       "[2] \"[RODBC] ERROR: Could not SQLExecDirect 'select AVG(TEMPERATURE), AVG(HUMIDITY), AVG(WIND_SPEED),AVG(VISIBILITY),\\n                    AVG(DEW_POINT_TEMPERATURE), AVG(SOLAR_RADIATION), AVG(RAINFALL), AVG(SNOWFALL) \\n                    from CITIES_WEATHER_FORECAST GROUP BY SEASONS;'\""
      ]
     },
     "metadata": {},
     "output_type": "display_data"
    }
   ],
   "source": [
    "query"
   ]
  },
  {
   "cell_type": "markdown",
   "metadata": {},
   "source": [
    "Seoul## Task 10 - Total Bike Count and City Info for Seoul\n",
    "\n",
    "#### Use an implicit join across the WORLD_CITIES and the BIKE_SHARING_SYSTEMS tables to determine the total number of bikes avaialble in Seoul, plus the following city information about Seoul: CITY, COUNTRY, LAT, LON, POPULATION, in a single view.\n",
    "\n",
    "Notice that in this case, the CITY column will work for the WORLD_CITIES table, but in general you would have to use the CITY_ASCII column.\n"
   ]
  },
  {
   "cell_type": "markdown",
   "metadata": {},
   "source": [
    "### Solution 10\n"
   ]
  },
  {
   "cell_type": "code",
   "execution_count": 12,
   "metadata": {},
   "outputs": [
    {
     "data": {
      "text/html": [
       "<table>\n",
       "<caption>A data.frame: 1 × 6</caption>\n",
       "<thead>\n",
       "\t<tr><th></th><th scope=col>BICYCLES</th><th scope=col>CITY</th><th scope=col>COUNTRY</th><th scope=col>LAT</th><th scope=col>LNG</th><th scope=col>POPULATION</th></tr>\n",
       "\t<tr><th></th><th scope=col>&lt;int&gt;</th><th scope=col>&lt;fct&gt;</th><th scope=col>&lt;fct&gt;</th><th scope=col>&lt;dbl&gt;</th><th scope=col>&lt;dbl&gt;</th><th scope=col>&lt;int&gt;</th></tr>\n",
       "</thead>\n",
       "<tbody>\n",
       "\t<tr><th scope=row>1</th><td>20000</td><td>Seoul</td><td>Korea, South</td><td>37.58</td><td>127</td><td>21794000</td></tr>\n",
       "</tbody>\n",
       "</table>\n"
      ],
      "text/latex": [
       "A data.frame: 1 × 6\n",
       "\\begin{tabular}{r|llllll}\n",
       "  & BICYCLES & CITY & COUNTRY & LAT & LNG & POPULATION\\\\\n",
       "  & <int> & <fct> & <fct> & <dbl> & <dbl> & <int>\\\\\n",
       "\\hline\n",
       "\t1 & 20000 & Seoul & Korea, South & 37.58 & 127 & 21794000\\\\\n",
       "\\end{tabular}\n"
      ],
      "text/markdown": [
       "\n",
       "A data.frame: 1 × 6\n",
       "\n",
       "| <!--/--> | BICYCLES &lt;int&gt; | CITY &lt;fct&gt; | COUNTRY &lt;fct&gt; | LAT &lt;dbl&gt; | LNG &lt;dbl&gt; | POPULATION &lt;int&gt; |\n",
       "|---|---|---|---|---|---|---|\n",
       "| 1 | 20000 | Seoul | Korea, South | 37.58 | 127 | 21794000 |\n",
       "\n"
      ],
      "text/plain": [
       "  BICYCLES CITY  COUNTRY      LAT   LNG POPULATION\n",
       "1 20000    Seoul Korea, South 37.58 127 21794000  "
      ]
     },
     "metadata": {},
     "output_type": "display_data"
    }
   ],
   "source": [
    "# provide your solution here                                              \n",
    "sqlQuery(conn,\"select  B.BICYCLES, W.CITY, W.COUNTRY, W.LAT, W.LNG, W.POPULATION \n",
    "              from WORLD_CITIES as W ,  BIKE_SHARING_SYSTEMS as B\n",
    "               where W.CITY_ASCII=B.CITY AND W.CITY_ASCII ='Seoul' ;\")"
   ]
  },
  {
   "cell_type": "markdown",
   "metadata": {},
   "source": [
    "## Task 11 - Find all city names and coordinates with comparable bike scale to Seoul's bike sharing system\n",
    "\n",
    "#### Find all cities with total bike counts between 15000 and 20000. Return the city and country names, plus the coordinates (LAT, LNG), population, and number of bicycles for each city.\n",
    "\n",
    "Later we will ask you to visualize these similar cities on leaflet, with some weather data.\n"
   ]
  },
  {
   "cell_type": "markdown",
   "metadata": {},
   "source": [
    "### Solution 11\n"
   ]
  },
  {
   "cell_type": "code",
   "execution_count": 31,
   "metadata": {},
   "outputs": [
    {
     "data": {
      "text/html": [
       "<table>\n",
       "<caption>A data.frame: 0 × 6</caption>\n",
       "<thead>\n",
       "\t<tr><th scope=col>BICYCLES</th><th scope=col>CITY</th><th scope=col>COUNTRY</th><th scope=col>LAT</th><th scope=col>LNG</th><th scope=col>POPULATION</th></tr>\n",
       "\t<tr><th scope=col>&lt;chr&gt;</th><th scope=col>&lt;chr&gt;</th><th scope=col>&lt;chr&gt;</th><th scope=col>&lt;chr&gt;</th><th scope=col>&lt;chr&gt;</th><th scope=col>&lt;chr&gt;</th></tr>\n",
       "</thead>\n",
       "<tbody>\n",
       "</tbody>\n",
       "</table>\n"
      ],
      "text/latex": [
       "A data.frame: 0 × 6\n",
       "\\begin{tabular}{llllll}\n",
       " BICYCLES & CITY & COUNTRY & LAT & LNG & POPULATION\\\\\n",
       " <chr> & <chr> & <chr> & <chr> & <chr> & <chr>\\\\\n",
       "\\hline\n",
       "\\end{tabular}\n"
      ],
      "text/markdown": [
       "\n",
       "A data.frame: 0 × 6\n",
       "\n",
       "| BICYCLES &lt;chr&gt; | CITY &lt;chr&gt; | COUNTRY &lt;chr&gt; | LAT &lt;chr&gt; | LNG &lt;chr&gt; | POPULATION &lt;chr&gt; |\n",
       "|---|---|---|---|---|---|\n",
       "\n"
      ],
      "text/plain": [
       "     BICYCLES CITY COUNTRY LAT LNG POPULATION"
      ]
     },
     "metadata": {},
     "output_type": "display_data"
    }
   ],
   "source": [
    "# provide your solution here\n",
    "sqlQuery(conn,\"select  B.BICYCLES, W.CITY, W.COUNTRY, W.LAT, W.LNG, W.POPULATION \n",
    "                from WORLD_CITIES as W ,  BIKE_SHARING_SYSTEMS as B\n",
    "               where B.BICYCLES  between 15000 and 20000 and  W.CITY_ASCII=B.CITY   ;\")"
   ]
  },
  {
   "cell_type": "code",
   "execution_count": null,
   "metadata": {},
   "outputs": [],
   "source": [
    "close(conn)"
   ]
  },
  {
   "cell_type": "markdown",
   "metadata": {},
   "source": [
    "## Author(s)\n",
    "\n",
    "<h4> Jeff Grossman </h4>\n",
    "\n",
    "## Contributor(s)\n",
    "\n",
    "<h4> Yan Luo, Rav Ahuja </h4>\n",
    "\n",
    "## Change log\n",
    "\n",
    "| Date       | Version | Changed by    | Change Description                  |\n",
    "| ---------- | ------- | ------------- | ----------------------------------- |\n",
    "| 2021-05-04 | 0.2     | Jeff Grossman | Finalize                            |\n",
    "| 2021-04-22 | 0.2     | Jeff Grossman | Update as per peer review           |\n",
    "| 2021-04-10 | 0.2     | Jeff Grossman | Add data sources and implicit joins |\n",
    "| 2021-04-05 | 0.1     | Jeff Grossman | Start content creation              |\n",
    "\n",
    "## <h3 align=\"center\"> © IBM Corporation 2021. All rights reserved. <h3/>\n"
   ]
  },
  {
   "cell_type": "code",
   "execution_count": null,
   "metadata": {},
   "outputs": [],
   "source": []
  }
 ],
 "metadata": {
  "kernelspec": {
   "display_name": "R",
   "language": "R",
   "name": "conda-env-r-r"
  },
  "language_info": {
   "codemirror_mode": "r",
   "file_extension": ".r",
   "mimetype": "text/x-r-source",
   "name": "R",
   "pygments_lexer": "r",
   "version": "3.5.1"
  },
  "widgets": {
   "state": {},
   "version": "1.1.2"
  }
 },
 "nbformat": 4,
 "nbformat_minor": 4
}
