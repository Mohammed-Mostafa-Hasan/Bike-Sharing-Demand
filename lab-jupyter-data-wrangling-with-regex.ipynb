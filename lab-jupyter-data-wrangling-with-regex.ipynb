{
 "cells": [
  {
   "cell_type": "markdown",
   "metadata": {},
   "source": [
    "<a href=\"https://cognitiveclass.ai/?utm_medium=Exinfluencer&utm_source=Exinfluencer&utm_content=000026UJ&utm_term=10006555&utm_id=NA-SkillsNetwork-Channel-SkillsNetworkCoursesIBMDeveloperSkillsNetworkRP0321ENSkillsNetwork25371262-2022-01-01\">\n",
    "    <img src=\"https://cf-courses-data.s3.us.cloud-object-storage.appdomain.cloud/IBMDeveloperSkillsNetwork-RP0101EN-Coursera/v2/M1_R_Basics/images/IDSNlogo.png\" width=\"200\" align=\"center\">\n",
    "</a>\n"
   ]
  },
  {
   "cell_type": "markdown",
   "metadata": {},
   "source": [
    "<h1>Data Wrangling with Regular Expressions</h1>\n",
    "\n",
    "Estimated time needed: **40** minutes\n"
   ]
  },
  {
   "cell_type": "markdown",
   "metadata": {},
   "source": [
    "## Lab Overview:\n",
    "\n",
    "In the previous data collection labs, you collected some raw datasets from several different sources. In this lab, you need to perform data wrangling tasks in order to improve data quality.\n"
   ]
  },
  {
   "cell_type": "markdown",
   "metadata": {},
   "source": [
    "You will again use regular expressions, along with the `stringr` package (part of `tidyverse`), to clean up the bike-sharing systems data that you previously web scraped from the wiki page:\n",
    "\n",
    "[https://en.wikipedia.org/wiki/List_of_bicycle-sharing_systems](https://en.wikipedia.org/wiki/List_of_bicycle-sharing_systems?utm_medium=Exinfluencer&utm_source=Exinfluencer&utm_content=000026UJ&utm_term=10006555&utm_id=NA-SkillsNetwork-Channel-SkillsNetworkCoursesIBMDeveloperSkillsNetworkRP0321ENSkillsNetwork25371262-2022-01-01)\n",
    "\n",
    "<a href=\"https://cognitiveclass.ai/?utm_medium=Exinfluencer&utm_source=Exinfluencer&utm_content=000026UJ&utm_term=10006555&utm_id=NA-SkillsNetwork-Channel-SkillsNetworkCoursesIBMDeveloperSkillsNetworkRP0321ENSkillsNetwork25371262-2022-01-01\">\n",
    "    <img src=\"https://cf-courses-data.s3.us.cloud-object-storage.appdomain.cloud/IBMDeveloperSkillsNetwork-RP0321EN-SkillsNetwork/labs/module_1/images/l2-list-bike-sharing-systems.png\" width=\"800\" align=\"center\">\n",
    "</a>\n"
   ]
  },
  {
   "cell_type": "markdown",
   "metadata": {},
   "source": [
    "One typical challenge of web scraping is that data extracted from HTML pages may contain unnecessary or inconsistently fomatted information.\\\n",
    "For example:\n",
    "\n",
    "*   Textual annotations in numeric fields: `1000 (Updated with 1050)`\n",
    "*   Attached reference links: `Bike sharing system [123]`\n",
    "*   Inconsistent data formats: `Yes` and `Y` for the logical value `TRUE` or `2021-04-09` and `Apr 09, 2021` for the same date\n",
    "*   HTML style tags: `<span style=\"color:blue\">Bike sharing system</span>`\n",
    "*   Special characters: `&nbsp` for a white space\n",
    "\n",
    "Many more such examples of noise may be encountered in real-world scraped data and most of such text related noises could be handled by regular expressions.\n"
   ]
  },
  {
   "cell_type": "markdown",
   "metadata": {},
   "source": [
    "To summarize, you will be using `stringr` (part of `tidyverse`) and regular expressions to perform the following data wrangling tasks:\n",
    "\n",
    "*   TASK: Standardize column names for all collected datasets\n",
    "*   TASK: Remove undesired reference links from the scraped bike-sharing systems dataset\n",
    "*   TASK: Extract only the numeric value from undesired text annotations\n"
   ]
  },
  {
   "cell_type": "markdown",
   "metadata": {},
   "source": [
    "Let's begin by importing the libraries you will use for these data wrangling tasks.\n"
   ]
  },
  {
   "cell_type": "code",
   "execution_count": 227,
   "metadata": {},
   "outputs": [],
   "source": [
    "# Check whether you need to install the `tidyverse` library\n",
    "require(\"tidyverse\")\n",
    "library(tidyverse)"
   ]
  },
  {
   "cell_type": "markdown",
   "metadata": {},
   "source": [
    "## TASK: Standardize column names for all collected datasets\n"
   ]
  },
  {
   "cell_type": "markdown",
   "metadata": {},
   "source": [
    "In the previous data collection labs, you collected four datasets in csv format:\n",
    "\n",
    "*   `raw_bike_sharing_systems.csv`:  A list of active bike-sharing systems across the world\n",
    "*   `raw_cities_weather_forecast.csv`: 5-day weather forecasts for a list of cities, from OpenWeather API\n",
    "*   `raw_worldcities.csv`: A list of major cities' info (such as name, latitude and longitude) across the world\n",
    "*   `raw_seoul_bike_sharing.csv`: Weather information (Temperature, Humidity, Windspeed, Visibility, Dewpoint, Solar radiation, Snowfall, Rainfall), the number of bikes rented per hour, and date information, from Seoul bike-sharing systems\n"
   ]
  },
  {
   "cell_type": "markdown",
   "metadata": {},
   "source": [
    "*Optional:* If you had some difficulties finishing the data collection labs, you may download the datasets directly from the following URLs:\n"
   ]
  },
  {
   "cell_type": "code",
   "execution_count": null,
   "metadata": {},
   "outputs": [],
   "source": [
    "# Download raw_bike_sharing_systems.csv\n",
    "url <- \"https://cf-courses-data.s3.us.cloud-object-storage.appdomain.cloud/IBMDeveloperSkillsNetwork-RP0321EN-SkillsNetwork/labs/datasets/raw_bike_sharing_systems.csv\"\n",
    "download.file(url, destfile = \"raw_bike_sharing_systems.csv\")\n",
    "\n",
    "# Download raw_cities_weather_forecast.csv\n",
    "url <- \"https://cf-courses-data.s3.us.cloud-object-storage.appdomain.cloud/IBMDeveloperSkillsNetwork-RP0321EN-SkillsNetwork/labs/datasets/raw_cities_weather_forecast.csv\"\n",
    "download.file(url, destfile = \"raw_cities_weather_forecast.csv\")\n",
    "\n",
    "# Download raw_worldcities.csv\n",
    "url <- \"https://cf-courses-data.s3.us.cloud-object-storage.appdomain.cloud/IBMDeveloperSkillsNetwork-RP0321EN-SkillsNetwork/labs/datasets/raw_worldcities.csv\"\n",
    "download.file(url, destfile = \"raw_worldcities.csv\")\n",
    "\n",
    "# Download raw_seoul_bike_sharing.csv\n",
    "url <- \"https://cf-courses-data.s3.us.cloud-object-storage.appdomain.cloud/IBMDeveloperSkillsNetwork-RP0321EN-SkillsNetwork/labs/datasets/raw_seoul_bike_sharing.csv\"\n",
    "download.file(url, destfile = \"raw_seoul_bike_sharing.csv\")"
   ]
  },
  {
   "cell_type": "markdown",
   "metadata": {},
   "source": [
    "To improve dataset readbility by both human and computer systems, we first need to standardize the column names of the datasets above using the following naming convention:\n",
    "\n",
    "*   Column names need to be UPPERCASE\n",
    "*   The word separator needs to be an underscore, such as in `COLUMN_NAME`\n"
   ]
  },
  {
   "cell_type": "markdown",
   "metadata": {},
   "source": [
    "You can use the following dataset list and the `names()` function to get and set each of their column names, and convert them according to our defined naming convention.\n"
   ]
  },
  {
   "cell_type": "code",
   "execution_count": 208,
   "metadata": {},
   "outputs": [],
   "source": [
    "dataset_list <- c('raw_bike_sharing_systems.csv', 'raw_seoul_bike_sharing.csv', 'raw_cities_weather_forecast.csv', 'raw_worldcities.csv')"
   ]
  },
  {
   "cell_type": "code",
   "execution_count": 209,
   "metadata": {},
   "outputs": [
    {
     "name": "stderr",
     "output_type": "stream",
     "text": [
      "Parsed with column specification:\n",
      "cols(\n",
      "  COUNTRY = col_character(),\n",
      "  City = col_character(),\n",
      "  Name = col_character(),\n",
      "  SYSTEM = col_character(),\n",
      "  OPERATOR = col_character(),\n",
      "  LAUNCHED = col_character(),\n",
      "  DISCONTINUED = col_character(),\n",
      "  STATIONS = col_character(),\n",
      "  BICYCLES = col_character(),\n",
      "  DAILY_RIDERSHIP = col_character()\n",
      ")\n",
      "Parsed with column specification:\n",
      "cols(\n",
      "  Date = col_character(),\n",
      "  RENTED_BIKE_COUNT = col_double(),\n",
      "  Hour = col_double(),\n",
      "  TEMPERATURE = col_double(),\n",
      "  HUMIDITY = col_double(),\n",
      "  WIND_SPEED = col_double(),\n",
      "  Visibility = col_double(),\n",
      "  DEW_POINT_TEMPERATURE = col_double(),\n",
      "  SOLAR_RADIATION = col_double(),\n",
      "  RAINFALL = col_double(),\n",
      "  Snowfall = col_double(),\n",
      "  SEASONS = col_character(),\n",
      "  HOLIDAY = col_character(),\n",
      "  FUNCTIONING_DAY = col_character()\n",
      ")\n",
      "Parsed with column specification:\n",
      "cols(\n",
      "  city = col_character(),\n",
      "  weather = col_character(),\n",
      "  visibility = col_double(),\n",
      "  temp = col_double(),\n",
      "  temp_min = col_double(),\n",
      "  temp_max = col_double(),\n",
      "  pressure = col_double(),\n",
      "  humidity = col_double(),\n",
      "  wind_speed = col_double(),\n",
      "  wind_deg = col_double(),\n",
      "  season = col_character(),\n",
      "  forecast_datetime = col_datetime(format = \"\")\n",
      ")\n",
      "Parsed with column specification:\n",
      "cols(\n",
      "  City = col_character(),\n",
      "  CITY_ASCII = col_character(),\n",
      "  LAT = col_double(),\n",
      "  LNG = col_double(),\n",
      "  COUNTRY = col_character(),\n",
      "  ISO2 = col_character(),\n",
      "  ISO3 = col_character(),\n",
      "  ADMIN_NAME = col_character(),\n",
      "  CAPITAL = col_character(),\n",
      "  POPULATION = col_double(),\n",
      "  ID = col_double()\n",
      ")\n"
     ]
    }
   ],
   "source": [
    "dataset <- list() \n",
    "for (dataset_name in seq_along(dataset_list))\n",
    "{   #read dataset\n",
    "    dataset[[dataset_name]] <- read_csv(file = dataset_list[[dataset_name]])\n",
    "}"
   ]
  },
  {
   "cell_type": "code",
   "execution_count": 210,
   "metadata": {},
   "outputs": [],
   "source": [
    "# Standardized its columns:\n",
    "# Replace any white space separators by underscores, using the str_replace_all function\n",
    "names(dataset[[1]]) <- toupper(colnames(dataset[[1]]))\n",
    "names(dataset[[2]]) <- toupper(colnames(dataset[[2]]))\n",
    "names(dataset[[3]]) <- toupper(colnames(dataset[[3]]))\n",
    "names(dataset[[4]]) <- toupper(colnames(dataset[[4]]))"
   ]
  },
  {
   "cell_type": "code",
   "execution_count": 211,
   "metadata": {},
   "outputs": [],
   "source": [
    "# Save the dataset \n",
    "    write.csv(dataset[[1]],'raw_bike_sharing_systems.csv')\n",
    "    write.csv(dataset[[2]],'raw_seoul_bike_sharing.csv')\n",
    "    write.csv(dataset[[3]],'raw_cities_weather_forecast.csv')\n",
    "    write.csv(dataset[[4]],'raw_worldcities.csv')"
   ]
  },
  {
   "cell_type": "code",
   "execution_count": 212,
   "metadata": {},
   "outputs": [
    {
     "name": "stdout",
     "output_type": "stream",
     "text": [
      "       X                  COUNTRY                   CITY    \n",
      " Min.   :  1.0   Germany      : 62   Berlin           :  9  \n",
      " 1st Qu.:120.8   China        : 61   Frankfurt am Main:  4  \n",
      " Median :240.5   United States: 60   Milan            :  4  \n",
      " Mean   :240.5   France       : 38   Bratislava       :  3  \n",
      " 3rd Qu.:360.2   Greece       : 22   Düsseldorf       :  3  \n",
      " Max.   :480.0   Italy        : 20   Nuremberg        :  3  \n",
      "                 (Other)      :217   (Other)          :454  \n",
      "              NAME                  SYSTEM                   OPERATOR  \n",
      " nextbike       : 24   3 Gen. nextbike : 61   JCDecaux           : 16  \n",
      " Rekola         : 12   3 Gen. B-Cycle  : 26   Motivate           : 10  \n",
      " EasyBike       : 10   3 Gen. Cyclocity: 26   Antik Telecom      :  6  \n",
      " metropolradruhr: 10   4 Gen.          : 23   NTA & An Rothar Nua:  3  \n",
      " Cyclopolis     :  9   3 Gen. Smoove   : 22   Arriva             :  2  \n",
      " (Other)        :373   (Other)         :182   (Other)            : 42  \n",
      " NA's           : 42   NA's            :140   NA's               :401  \n",
      "    LAUNCHED         DISCONTINUED     STATIONS      BICYCLES  \n",
      " 2010   : 30   2016        :  3   dockless: 17   100    : 18  \n",
      " 2011   : 21   Discontinued:  2   4       : 14   500    : 18  \n",
      " 2013   : 18   July 2018   :  2   10      : 13   300    : 17  \n",
      " 2009   : 15   19??        :  1   5       : 13   200    : 14  \n",
      " 2012   : 14   1966        :  1   30      : 12   1000   : 13  \n",
      " (Other):351   (Other)     : 19   (Other) :335   (Other):324  \n",
      " NA's   : 31   NA's        :452   NA's    : 76   NA's   : 76  \n",
      "          DAILY_RIDERSHIP\n",
      " 105000 (2017[100]:  1   \n",
      " 13000            :  1   \n",
      " 1400             :  1   \n",
      " 14887            :  1   \n",
      " 150000 [100]     :  1   \n",
      " (Other)          : 18   \n",
      " NA's             :457   \n",
      "       X                DATE      RENTED_BIKE_COUNT      HOUR      \n",
      " Min.   :   1   01/01/2018:  24   Min.   :   2.0    Min.   : 0.00  \n",
      " 1st Qu.:2191   01/02/2018:  24   1st Qu.: 214.0    1st Qu.: 5.75  \n",
      " Median :4380   01/03/2018:  24   Median : 542.0    Median :11.50  \n",
      " Mean   :4380   01/04/2018:  24   Mean   : 729.2    Mean   :11.50  \n",
      " 3rd Qu.:6570   01/05/2018:  24   3rd Qu.:1084.0    3rd Qu.:17.25  \n",
      " Max.   :8760   01/06/2018:  24   Max.   :3556.0    Max.   :23.00  \n",
      "                (Other)   :8616   NA's   :295                      \n",
      "  TEMPERATURE        HUMIDITY       WIND_SPEED      VISIBILITY  \n",
      " Min.   :-17.80   Min.   : 0.00   Min.   :0.000   Min.   :  27  \n",
      " 1st Qu.:  3.40   1st Qu.:42.00   1st Qu.:0.900   1st Qu.: 940  \n",
      " Median : 13.70   Median :57.00   Median :1.500   Median :1698  \n",
      " Mean   : 12.87   Mean   :58.23   Mean   :1.725   Mean   :1437  \n",
      " 3rd Qu.: 22.50   3rd Qu.:74.00   3rd Qu.:2.300   3rd Qu.:2000  \n",
      " Max.   : 39.40   Max.   :98.00   Max.   :7.400   Max.   :2000  \n",
      " NA's   :11                                                     \n",
      " DEW_POINT_TEMPERATURE SOLAR_RADIATION     RAINFALL          SNOWFALL      \n",
      " Min.   :-30.600       Min.   :0.0000   Min.   : 0.0000   Min.   :0.00000  \n",
      " 1st Qu.: -4.700       1st Qu.:0.0000   1st Qu.: 0.0000   1st Qu.:0.00000  \n",
      " Median :  5.100       Median :0.0100   Median : 0.0000   Median :0.00000  \n",
      " Mean   :  4.074       Mean   :0.5691   Mean   : 0.1487   Mean   :0.07507  \n",
      " 3rd Qu.: 14.800       3rd Qu.:0.9300   3rd Qu.: 0.0000   3rd Qu.:0.00000  \n",
      " Max.   : 27.200       Max.   :3.5200   Max.   :35.0000   Max.   :8.80000  \n",
      "                                                                           \n",
      "   SEASONS           HOLIDAY     FUNCTIONING_DAY\n",
      " Autumn:2184   Holiday   : 432   No : 295       \n",
      " Spring:2208   No Holiday:8328   Yes:8465       \n",
      " Summer:2208                                    \n",
      " Winter:2160                                    \n",
      "                                                \n",
      "                                                \n",
      "                                                \n",
      "       X                        CITY      WEATHER     VISIBILITY   \n",
      " Min.   :  1.00   Paris           :40   Clear :55   Min.   : 9940  \n",
      " 1st Qu.: 40.75   Seoul           :40   Clouds:93   1st Qu.:10000  \n",
      " Median : 80.50   Suzhou          :40   Rain  :12   Median :10000  \n",
      " Mean   : 80.50   Washington, D.C.:40               Mean   :10000  \n",
      " 3rd Qu.:120.25                                     3rd Qu.:10000  \n",
      " Max.   :160.00                                     Max.   :10000  \n",
      "                                                                   \n",
      "      TEMP           TEMP_MIN         TEMP_MAX         PRESSURE   \n",
      " Min.   : 3.810   Min.   : 3.810   Min.   : 3.810   Min.   : 954  \n",
      " 1st Qu.: 9.748   1st Qu.: 9.725   1st Qu.: 9.953   1st Qu.:1016  \n",
      " Median :12.765   Median :12.765   Median :12.765   Median :1019  \n",
      " Mean   :13.505   Mean   :13.444   Mean   :13.539   Mean   :1018  \n",
      " 3rd Qu.:16.747   3rd Qu.:16.635   3rd Qu.:16.977   3rd Qu.:1022  \n",
      " Max.   :26.130   Max.   :26.130   Max.   :26.130   Max.   :1028  \n",
      "                                                                  \n",
      "    HUMIDITY       WIND_SPEED       WIND_DEG        SEASON   \n",
      " Min.   :17.00   Min.   :0.180   Min.   :  2.0   Spring:160  \n",
      " 1st Qu.:37.00   1st Qu.:1.455   1st Qu.: 92.0               \n",
      " Median :49.00   Median :2.130   Median :141.0               \n",
      " Mean   :49.92   Mean   :2.778   Mean   :163.7               \n",
      " 3rd Qu.:62.00   3rd Qu.:3.723   3rd Qu.:256.8               \n",
      " Max.   :94.00   Max.   :8.180   Max.   :352.0               \n",
      "                                                             \n",
      "           FORECAST_DATETIME\n",
      " 2021-04-16 12:00:00:  4    \n",
      " 2021-04-16 15:00:00:  4    \n",
      " 2021-04-16 18:00:00:  4    \n",
      " 2021-04-16 21:00:00:  4    \n",
      " 2021-04-17 00:00:00:  4    \n",
      " 2021-04-17 03:00:00:  4    \n",
      " (Other)            :136    \n",
      "       X                  CITY             CITY_ASCII         LAT        \n",
      " Min.   :    1   Clinton    :   14   Clinton    :   14   Min.   :-54.93  \n",
      " 1st Qu.: 6643   Richmond   :   14   Richmond   :   14   1st Qu.: 27.92  \n",
      " Median :13285   Franklin   :   13   Franklin   :   13   Median : 40.22  \n",
      " Mean   :13285   Springfield:   13   Springfield:   13   Mean   : 33.10  \n",
      " 3rd Qu.:19927   Greenville :   12   Greenville :   12   3rd Qu.: 47.99  \n",
      " Max.   :26569   Hamilton   :   11   Hamilton   :   11   Max.   : 81.72  \n",
      "                 (Other)    :26492   (Other)    :26492                   \n",
      "      LNG                      COUNTRY           ISO2            ISO3      \n",
      " Min.   :-179.5900   United States : 7768   US     : 7768   USA    : 7768  \n",
      " 1st Qu.: -78.7794   United Kingdom: 1798   GB     : 1798   GBR    : 1798  \n",
      " Median :  -0.7689   Germany       : 1606   DE     : 1606   DEU    : 1606  \n",
      " Mean   : -11.3639   Russia        : 1161   RU     : 1161   RUS    : 1161  \n",
      " 3rd Qu.:  29.6833   Japan         :  827   JP     :  827   JPN    :  827  \n",
      " Max.   : 179.3667   Brazil        :  788   (Other):13378   BRA    :  788  \n",
      "                     (Other)       :12621   NA's   :   31   (Other):12621  \n",
      "        ADMIN_NAME       CAPITAL        POPULATION             ID           \n",
      " California  :  650   admin  : 3664   Min.   :       0   Min.   :1.004e+09  \n",
      " Pennsylvania:  617   minor  : 3754   1st Qu.:    9246   1st Qu.:1.277e+09  \n",
      " New York    :  594   primary:  208   Median :   20080   Median :1.643e+09  \n",
      " Florida     :  472   NA's   :18943   Mean   :  162346   Mean   :1.556e+09  \n",
      " São Paulo   :  430                   3rd Qu.:   59369   3rd Qu.:1.840e+09  \n",
      " (Other)     :23730                   Max.   :37977000   Max.   :1.934e+09  \n",
      " NA's        :   76                   NA's   :973                           \n"
     ]
    }
   ],
   "source": [
    "for (dataset_name in dataset_list){\n",
    "    # Print a summary for each data set to check whether the column names were correctly converted\n",
    "    print(summary(read.csv(dataset_name)))\n",
    "}"
   ]
  },
  {
   "cell_type": "markdown",
   "metadata": {},
   "source": [
    "## Process the web-scraped bike sharing system dataset\n"
   ]
  },
  {
   "cell_type": "markdown",
   "metadata": {},
   "source": [
    "By now we have standardized all column names. Next, we will focus on cleaning up the values in the web-scraped bike sharing systems dataset.\n"
   ]
  },
  {
   "cell_type": "code",
   "execution_count": 213,
   "metadata": {},
   "outputs": [
    {
     "name": "stderr",
     "output_type": "stream",
     "text": [
      "Warning message:\n",
      "“Missing column names filled in: 'X1' [1]”Parsed with column specification:\n",
      "cols(\n",
      "  X1 = col_double(),\n",
      "  COUNTRY = col_character(),\n",
      "  CITY = col_character(),\n",
      "  NAME = col_character(),\n",
      "  SYSTEM = col_character(),\n",
      "  OPERATOR = col_character(),\n",
      "  LAUNCHED = col_character(),\n",
      "  DISCONTINUED = col_character(),\n",
      "  STATIONS = col_character(),\n",
      "  BICYCLES = col_character(),\n",
      "  DAILY_RIDERSHIP = col_character()\n",
      ")\n"
     ]
    }
   ],
   "source": [
    "# First load the dataset\n",
    "bike_sharing_df <- read_csv(\"raw_bike_sharing_systems.csv\")"
   ]
  },
  {
   "cell_type": "code",
   "execution_count": 214,
   "metadata": {},
   "outputs": [
    {
     "data": {
      "text/html": [
       "<table>\n",
       "<thead><tr><th scope=col>X1</th><th scope=col>COUNTRY</th><th scope=col>CITY</th><th scope=col>NAME</th><th scope=col>SYSTEM</th><th scope=col>OPERATOR</th><th scope=col>LAUNCHED</th><th scope=col>DISCONTINUED</th><th scope=col>STATIONS</th><th scope=col>BICYCLES</th><th scope=col>DAILY_RIDERSHIP</th></tr></thead>\n",
       "<tbody>\n",
       "\t<tr><td>1                             </td><td>Albania                       </td><td>Tirana                        </td><td>Ecovolis                      </td><td>NA                            </td><td>NA                            </td><td>March 2011                    </td><td>NA                            </td><td>8                             </td><td>200                           </td><td>NA                            </td></tr>\n",
       "\t<tr><td>2                             </td><td>Argentina                     </td><td>Mendoza                       </td><td>Metrobici                     </td><td>NA                            </td><td>NA                            </td><td>2014                          </td><td>NA                            </td><td>2                             </td><td>40                            </td><td>NA                            </td></tr>\n",
       "\t<tr><td>3                             </td><td>Argentina                     </td><td>San Lorenzo, Santa Fe         </td><td>Biciudad                      </td><td>Biciudad                      </td><td>NA                            </td><td>27 November 2016              </td><td>NA                            </td><td>8                             </td><td>80                            </td><td>NA                            </td></tr>\n",
       "\t<tr><td>4                             </td><td>Argentina                     </td><td>Buenos Aires                  </td><td>Ecobici                       </td><td>Serttel Brasil                </td><td>Bike In Baires Consortium.[10]</td><td>2010                          </td><td>NA                            </td><td>400                           </td><td>4000                          </td><td>21917                         </td></tr>\n",
       "\t<tr><td>5                             </td><td>Argentina                     </td><td>Rosario                       </td><td>Mi Bici Tu Bici[11]           </td><td>NA                            </td><td>NA                            </td><td>2 December 2015               </td><td>NA                            </td><td>47                            </td><td>480                           </td><td>NA                            </td></tr>\n",
       "\t<tr><td>6                                                                     </td><td>Australia                                                             </td><td><span style=white-space:pre-wrap>Melbourne[12]        </span>         </td><td>Melbourne Bike Share                                                  </td><td><span style=white-space:pre-wrap>PBSC &amp; 8D     </span>            </td><td><span style=white-space:pre-wrap>Motivate                      </span></td><td><span style=white-space:pre-wrap>June 2010       </span>              </td><td>30 November 2019[13]                                                  </td><td>53                                                                    </td><td>676                                                                   </td><td><span style=white-space:pre-wrap>NA   </span>                         </td></tr>\n",
       "</tbody>\n",
       "</table>\n"
      ],
      "text/latex": [
       "\\begin{tabular}{r|lllllllllll}\n",
       " X1 & COUNTRY & CITY & NAME & SYSTEM & OPERATOR & LAUNCHED & DISCONTINUED & STATIONS & BICYCLES & DAILY\\_RIDERSHIP\\\\\n",
       "\\hline\n",
       "\t 1                              & Albania                        & Tirana                         & Ecovolis                       & NA                             & NA                             & March 2011                     & NA                             & 8                              & 200                            & NA                            \\\\\n",
       "\t 2                              & Argentina                      & Mendoza                        & Metrobici                      & NA                             & NA                             & 2014                           & NA                             & 2                              & 40                             & NA                            \\\\\n",
       "\t 3                              & Argentina                      & San Lorenzo, Santa Fe          & Biciudad                       & Biciudad                       & NA                             & 27 November 2016               & NA                             & 8                              & 80                             & NA                            \\\\\n",
       "\t 4                                  & Argentina                          & Buenos Aires                       & Ecobici                            & Serttel Brasil                     & Bike In Baires Consortium.{[}10{]} & 2010                               & NA                                 & 400                                & 4000                               & 21917                             \\\\\n",
       "\t 5                              & Argentina                      & Rosario                        & Mi Bici Tu Bici{[}11{]}        & NA                             & NA                             & 2 December 2015                & NA                             & 47                             & 480                            & NA                            \\\\\n",
       "\t 6                              & Australia                      & Melbourne{[}12{]}              & Melbourne Bike Share           & PBSC \\& 8D                    & Motivate                       & June 2010                      & 30 November 2019{[}13{]}       & 53                             & 676                            & NA                            \\\\\n",
       "\\end{tabular}\n"
      ],
      "text/markdown": [
       "\n",
       "| X1 | COUNTRY | CITY | NAME | SYSTEM | OPERATOR | LAUNCHED | DISCONTINUED | STATIONS | BICYCLES | DAILY_RIDERSHIP |\n",
       "|---|---|---|---|---|---|---|---|---|---|---|\n",
       "| 1                              | Albania                        | Tirana                         | Ecovolis                       | NA                             | NA                             | March 2011                     | NA                             | 8                              | 200                            | NA                             |\n",
       "| 2                              | Argentina                      | Mendoza                        | Metrobici                      | NA                             | NA                             | 2014                           | NA                             | 2                              | 40                             | NA                             |\n",
       "| 3                              | Argentina                      | San Lorenzo, Santa Fe          | Biciudad                       | Biciudad                       | NA                             | 27 November 2016               | NA                             | 8                              | 80                             | NA                             |\n",
       "| 4                              | Argentina                      | Buenos Aires                   | Ecobici                        | Serttel Brasil                 | Bike In Baires Consortium.[10] | 2010                           | NA                             | 400                            | 4000                           | 21917                          |\n",
       "| 5                              | Argentina                      | Rosario                        | Mi Bici Tu Bici[11]            | NA                             | NA                             | 2 December 2015                | NA                             | 47                             | 480                            | NA                             |\n",
       "| 6                              | Australia                      | Melbourne[12]                  | Melbourne Bike Share           | PBSC & 8D                      | Motivate                       | June 2010                      | 30 November 2019[13]           | 53                             | 676                            | NA                             |\n",
       "\n"
      ],
      "text/plain": [
       "  X1 COUNTRY   CITY                  NAME                 SYSTEM        \n",
       "1 1  Albania   Tirana                Ecovolis             NA            \n",
       "2 2  Argentina Mendoza               Metrobici            NA            \n",
       "3 3  Argentina San Lorenzo, Santa Fe Biciudad             Biciudad      \n",
       "4 4  Argentina Buenos Aires          Ecobici              Serttel Brasil\n",
       "5 5  Argentina Rosario               Mi Bici Tu Bici[11]  NA            \n",
       "6 6  Australia Melbourne[12]         Melbourne Bike Share PBSC & 8D     \n",
       "  OPERATOR                       LAUNCHED         DISCONTINUED         STATIONS\n",
       "1 NA                             March 2011       NA                   8       \n",
       "2 NA                             2014             NA                   2       \n",
       "3 NA                             27 November 2016 NA                   8       \n",
       "4 Bike In Baires Consortium.[10] 2010             NA                   400     \n",
       "5 NA                             2 December 2015  NA                   47      \n",
       "6 Motivate                       June 2010        30 November 2019[13] 53      \n",
       "  BICYCLES DAILY_RIDERSHIP\n",
       "1 200      NA             \n",
       "2 40       NA             \n",
       "3 80       NA             \n",
       "4 4000     21917          \n",
       "5 480      NA             \n",
       "6 676      NA             "
      ]
     },
     "metadata": {},
     "output_type": "display_data"
    }
   ],
   "source": [
    "# Print its head\n",
    "head(bike_sharing_df)"
   ]
  },
  {
   "cell_type": "markdown",
   "metadata": {},
   "source": [
    "Even from the first few rows, you can see there is plenty of undesireable embedded textual content, such as the reference link included in `Melbourne[12]`.\n"
   ]
  },
  {
   "cell_type": "markdown",
   "metadata": {},
   "source": [
    "In this project, let's only focus on processing the following revelant columns (feel free to process the other columns for more practice):\n",
    "\n",
    "*   `COUNTRY`: Country name\n",
    "*   `CITY`: City name\n",
    "*   `SYSTEM`: Bike-sharing system name\n",
    "*   `BICYCLES`: Total number of bikes in the system\n"
   ]
  },
  {
   "cell_type": "code",
   "execution_count": 245,
   "metadata": {},
   "outputs": [],
   "source": [
    "# Select the four columns\n",
    "sub_bike_sharing_df <- bike_sharing_df %>% select(COUNTRY, CITY, SYSTEM, BICYCLES)"
   ]
  },
  {
   "cell_type": "markdown",
   "metadata": {},
   "source": [
    "Let's see the types of the selected columns\n"
   ]
  },
  {
   "cell_type": "code",
   "execution_count": 246,
   "metadata": {},
   "outputs": [
    {
     "data": {
      "text/html": [
       "<table>\n",
       "<thead><tr><th scope=col>variable</th><th scope=col>class</th></tr></thead>\n",
       "<tbody>\n",
       "\t<tr><td>COUNTRY  </td><td>character</td></tr>\n",
       "\t<tr><td>CITY     </td><td>character</td></tr>\n",
       "\t<tr><td>SYSTEM   </td><td>character</td></tr>\n",
       "\t<tr><td>BICYCLES </td><td>character</td></tr>\n",
       "</tbody>\n",
       "</table>\n"
      ],
      "text/latex": [
       "\\begin{tabular}{r|ll}\n",
       " variable & class\\\\\n",
       "\\hline\n",
       "\t COUNTRY   & character\\\\\n",
       "\t CITY      & character\\\\\n",
       "\t SYSTEM    & character\\\\\n",
       "\t BICYCLES  & character\\\\\n",
       "\\end{tabular}\n"
      ],
      "text/markdown": [
       "\n",
       "| variable | class |\n",
       "|---|---|\n",
       "| COUNTRY   | character |\n",
       "| CITY      | character |\n",
       "| SYSTEM    | character |\n",
       "| BICYCLES  | character |\n",
       "\n"
      ],
      "text/plain": [
       "  variable class    \n",
       "1 COUNTRY  character\n",
       "2 CITY     character\n",
       "3 SYSTEM   character\n",
       "4 BICYCLES character"
      ]
     },
     "metadata": {},
     "output_type": "display_data"
    }
   ],
   "source": [
    "sub_bike_sharing_df %>% \n",
    "    summarize_all(class) %>%\n",
    "    gather(variable, class)"
   ]
  },
  {
   "cell_type": "markdown",
   "metadata": {},
   "source": [
    "They are all interpreted as character columns, but we expect the `BICYCLES` column to be of numeric type. Let's see why it wasn't loaded as a numeric column - possibly some entries contain characters. Let's create a simple function called `find_character` to check that.\n"
   ]
  },
  {
   "cell_type": "code",
   "execution_count": 247,
   "metadata": {},
   "outputs": [],
   "source": [
    "# grepl searches a string for non-digital characters, and returns TRUE or FALSE\n",
    "# if it finds any non-digital characters, then the bicyle column is not purely numeric\n",
    "find_character <- function(strings) grepl(\"[^0-9]\", strings)"
   ]
  },
  {
   "cell_type": "markdown",
   "metadata": {},
   "source": [
    "Let's try to find any elements in the `Bicycles` column containing non-numeric characters.\n"
   ]
  },
  {
   "cell_type": "code",
   "execution_count": 248,
   "metadata": {},
   "outputs": [
    {
     "data": {
      "text/html": [
       "<table>\n",
       "<thead><tr><th scope=col>BICYCLES</th></tr></thead>\n",
       "<tbody>\n",
       "\t<tr><td>4115[22]                  </td></tr>\n",
       "\t<tr><td>310[59]                   </td></tr>\n",
       "\t<tr><td>500[72]                   </td></tr>\n",
       "\t<tr><td>[75]                      </td></tr>\n",
       "\t<tr><td>180[76]                   </td></tr>\n",
       "\t<tr><td>600[77]                   </td></tr>\n",
       "\t<tr><td>[78]                      </td></tr>\n",
       "\t<tr><td>initially 800 (later 2500)</td></tr>\n",
       "\t<tr><td>100 (220)                 </td></tr>\n",
       "\t<tr><td>370[114]                  </td></tr>\n",
       "</tbody>\n",
       "</table>\n"
      ],
      "text/latex": [
       "\\begin{tabular}{r|l}\n",
       " BICYCLES\\\\\n",
       "\\hline\n",
       "\t 4115{[}22{]}                  \\\\\n",
       "\t 310{[}59{]}                   \\\\\n",
       "\t 500{[}72{]}                   \\\\\n",
       "\t {[}75{]}                      \\\\\n",
       "\t 180{[}76{]}                   \\\\\n",
       "\t 600{[}77{]}                   \\\\\n",
       "\t {[}78{]}                      \\\\\n",
       "\t initially 800 (later 2500)\\\\\n",
       "\t 100 (220)                 \\\\\n",
       "\t 370{[}114{]}                  \\\\\n",
       "\\end{tabular}\n"
      ],
      "text/markdown": [
       "\n",
       "| BICYCLES |\n",
       "|---|\n",
       "| 4115[22]                   |\n",
       "| 310[59]                    |\n",
       "| 500[72]                    |\n",
       "| [75]                       |\n",
       "| 180[76]                    |\n",
       "| 600[77]                    |\n",
       "| [78]                       |\n",
       "| initially 800 (later 2500) |\n",
       "| 100 (220)                  |\n",
       "| 370[114]                   |\n",
       "\n"
      ],
      "text/plain": [
       "   BICYCLES                  \n",
       "1  4115[22]                  \n",
       "2  310[59]                   \n",
       "3  500[72]                   \n",
       "4  [75]                      \n",
       "5  180[76]                   \n",
       "6  600[77]                   \n",
       "7  [78]                      \n",
       "8  initially 800 (later 2500)\n",
       "9  100 (220)                 \n",
       "10 370[114]                  "
      ]
     },
     "metadata": {},
     "output_type": "display_data"
    }
   ],
   "source": [
    "sub_bike_sharing_df %>% \n",
    "    select(BICYCLES) %>% \n",
    "    filter(find_character(BICYCLES)) %>%\n",
    "    slice(0:10)"
   ]
  },
  {
   "cell_type": "markdown",
   "metadata": {},
   "source": [
    "As you can see, many rows have non-numeric characters, such as `32 (including 6 rollers) [162]` and `1000[253]`. This is actually very common for a table scraped from Wiki when no input validation is enforced.\n",
    "\n",
    "Later, you will use regular expressions to clean them up.\n"
   ]
  },
  {
   "cell_type": "markdown",
   "metadata": {},
   "source": [
    "Next, let's take a look at the other columns, namely `COUNTRY`, `CITY`, and `SYSTEM`, to see if they contain any undesired reference links, such as in `Melbourne[12]`.\n"
   ]
  },
  {
   "cell_type": "code",
   "execution_count": 249,
   "metadata": {},
   "outputs": [],
   "source": [
    "# Define a 'reference link' character class, \n",
    "# `[A-z0-9]` means at least one character \n",
    "# `\\\\[` and `\\\\]` means the character is wrapped by [], such as for [12] or [abc]\n",
    "ref_pattern <- \"\\\\[[A-z0-9]+\\\\]\"\n",
    "find_reference_pattern <- function(strings) grepl(ref_pattern, strings)"
   ]
  },
  {
   "cell_type": "code",
   "execution_count": 250,
   "metadata": {},
   "outputs": [
    {
     "data": {
      "text/html": [
       "<table>\n",
       "<thead><tr><th scope=col>COUNTRY</th></tr></thead>\n",
       "<tbody>\n",
       "</tbody>\n",
       "</table>\n"
      ],
      "text/latex": [
       "\\begin{tabular}{r|l}\n",
       " COUNTRY\\\\\n",
       "\\hline\n",
       "\\end{tabular}\n"
      ],
      "text/markdown": [
       "\n",
       "| COUNTRY |\n",
       "|---|\n",
       "\n"
      ],
      "text/plain": [
       "     COUNTRY"
      ]
     },
     "metadata": {},
     "output_type": "display_data"
    }
   ],
   "source": [
    "# Check whether the COUNTRY column has any reference links\n",
    "sub_bike_sharing_df %>% \n",
    "    select(COUNTRY) %>% \n",
    "    filter(find_reference_pattern(COUNTRY)) %>%\n",
    "    slice(0:10)"
   ]
  },
  {
   "cell_type": "markdown",
   "metadata": {},
   "source": [
    "Ok, looks like the `COUNTRY` column is clean. Let's check the `CITY` column.\n"
   ]
  },
  {
   "cell_type": "code",
   "execution_count": 251,
   "metadata": {},
   "outputs": [
    {
     "data": {
      "text/html": [
       "<table>\n",
       "<thead><tr><th scope=col>CITY</th></tr></thead>\n",
       "<tbody>\n",
       "\t<tr><td>Melbourne[12]        </td></tr>\n",
       "\t<tr><td>Brisbane[14][15]     </td></tr>\n",
       "\t<tr><td>Lower Austria[18]    </td></tr>\n",
       "\t<tr><td>Namur[19]            </td></tr>\n",
       "\t<tr><td>Brussels[21]         </td></tr>\n",
       "\t<tr><td>Salvador[23]         </td></tr>\n",
       "\t<tr><td>Belo Horizonte[24]   </td></tr>\n",
       "\t<tr><td>João Pessoa[25]      </td></tr>\n",
       "\t<tr><td>(Pedro de) Toledo[26]</td></tr>\n",
       "\t<tr><td>Rio de Janeiro[27]   </td></tr>\n",
       "</tbody>\n",
       "</table>\n"
      ],
      "text/latex": [
       "\\begin{tabular}{r|l}\n",
       " CITY\\\\\n",
       "\\hline\n",
       "\t Melbourne{[}12{]}        \\\\\n",
       "\t Brisbane{[}14{]}{[}15{]}     \\\\\n",
       "\t Lower Austria{[}18{]}    \\\\\n",
       "\t Namur{[}19{]}            \\\\\n",
       "\t Brussels{[}21{]}         \\\\\n",
       "\t Salvador{[}23{]}         \\\\\n",
       "\t Belo Horizonte{[}24{]}   \\\\\n",
       "\t João Pessoa{[}25{]}      \\\\\n",
       "\t (Pedro de) Toledo{[}26{]}\\\\\n",
       "\t Rio de Janeiro{[}27{]}   \\\\\n",
       "\\end{tabular}\n"
      ],
      "text/markdown": [
       "\n",
       "| CITY |\n",
       "|---|\n",
       "| Melbourne[12]         |\n",
       "| Brisbane[14][15]      |\n",
       "| Lower Austria[18]     |\n",
       "| Namur[19]             |\n",
       "| Brussels[21]          |\n",
       "| Salvador[23]          |\n",
       "| Belo Horizonte[24]    |\n",
       "| João Pessoa[25]       |\n",
       "| (Pedro de) Toledo[26] |\n",
       "| Rio de Janeiro[27]    |\n",
       "\n"
      ],
      "text/plain": [
       "   CITY                 \n",
       "1  Melbourne[12]        \n",
       "2  Brisbane[14][15]     \n",
       "3  Lower Austria[18]    \n",
       "4  Namur[19]            \n",
       "5  Brussels[21]         \n",
       "6  Salvador[23]         \n",
       "7  Belo Horizonte[24]   \n",
       "8  João Pessoa[25]      \n",
       "9  (Pedro de) Toledo[26]\n",
       "10 Rio de Janeiro[27]   "
      ]
     },
     "metadata": {},
     "output_type": "display_data"
    }
   ],
   "source": [
    "# Check whether the CITY column has any reference links\n",
    "sub_bike_sharing_df %>% \n",
    "    select(CITY) %>% \n",
    "    filter(find_reference_pattern(CITY)) %>%\n",
    "    slice(0:10)"
   ]
  },
  {
   "cell_type": "markdown",
   "metadata": {},
   "source": [
    "Hmm, looks like the `CITY` column has some reference links to be removed. Next, let's check the `SYSTEM` column.\n"
   ]
  },
  {
   "cell_type": "code",
   "execution_count": 252,
   "metadata": {},
   "outputs": [
    {
     "data": {
      "text/html": [
       "<table>\n",
       "<thead><tr><th scope=col>SYSTEM</th></tr></thead>\n",
       "<tbody>\n",
       "\t<tr><td>EasyBike[58]                     </td></tr>\n",
       "\t<tr><td>4 Gen.[61]                       </td></tr>\n",
       "\t<tr><td>3 Gen. SmooveKey[113]            </td></tr>\n",
       "\t<tr><td>3 Gen. Smoove[141][142][143][139]</td></tr>\n",
       "\t<tr><td>3 Gen. Smoove[179]               </td></tr>\n",
       "\t<tr><td>3 Gen. Smoove[181]               </td></tr>\n",
       "\t<tr><td>3 Gen. Smoove[183]               </td></tr>\n",
       "</tbody>\n",
       "</table>\n"
      ],
      "text/latex": [
       "\\begin{tabular}{r|l}\n",
       " SYSTEM\\\\\n",
       "\\hline\n",
       "\t EasyBike{[}58{]}                     \\\\\n",
       "\t 4 Gen.{[}61{]}                       \\\\\n",
       "\t 3 Gen. SmooveKey{[}113{]}            \\\\\n",
       "\t 3 Gen. Smoove{[}141{]}{[}142{]}{[}143{]}{[}139{]}\\\\\n",
       "\t 3 Gen. Smoove{[}179{]}               \\\\\n",
       "\t 3 Gen. Smoove{[}181{]}               \\\\\n",
       "\t 3 Gen. Smoove{[}183{]}               \\\\\n",
       "\\end{tabular}\n"
      ],
      "text/markdown": [
       "\n",
       "| SYSTEM |\n",
       "|---|\n",
       "| EasyBike[58]                      |\n",
       "| 4 Gen.[61]                        |\n",
       "| 3 Gen. SmooveKey[113]             |\n",
       "| 3 Gen. Smoove[141][142][143][139] |\n",
       "| 3 Gen. Smoove[179]                |\n",
       "| 3 Gen. Smoove[181]                |\n",
       "| 3 Gen. Smoove[183]                |\n",
       "\n"
      ],
      "text/plain": [
       "  SYSTEM                           \n",
       "1 EasyBike[58]                     \n",
       "2 4 Gen.[61]                       \n",
       "3 3 Gen. SmooveKey[113]            \n",
       "4 3 Gen. Smoove[141][142][143][139]\n",
       "5 3 Gen. Smoove[179]               \n",
       "6 3 Gen. Smoove[181]               \n",
       "7 3 Gen. Smoove[183]               "
      ]
     },
     "metadata": {},
     "output_type": "display_data"
    }
   ],
   "source": [
    "# Check whether the System column has any reference links\n",
    "sub_bike_sharing_df %>% \n",
    "    select(SYSTEM) %>% \n",
    "    filter(find_reference_pattern(SYSTEM)) %>%\n",
    "    slice(0:10)"
   ]
  },
  {
   "cell_type": "markdown",
   "metadata": {},
   "source": [
    "So the `SYSTEM` column also has some reference links.\n"
   ]
  },
  {
   "cell_type": "markdown",
   "metadata": {},
   "source": [
    "After some preliminary investigations, we identified that the `CITY` and `SYSTEM` columns have some undesired reference links, and the `BICYCLES` column has both reference links and some\n",
    "textual annotations.\n",
    "\n",
    "Next, you need to use regular expressions to clean up the unexpected reference links and text annotations in numeric values.\n"
   ]
  },
  {
   "cell_type": "markdown",
   "metadata": {},
   "source": [
    "# TASK: Remove undesired reference links using regular expressions\n"
   ]
  },
  {
   "cell_type": "markdown",
   "metadata": {},
   "source": [
    "*TODO:* Write a custom function using `stringr::str_replace_all` to replace all reference links with an empty character for columns `CITY` and `SYSTEM`\n"
   ]
  },
  {
   "cell_type": "code",
   "execution_count": 253,
   "metadata": {},
   "outputs": [],
   "source": [
    "# remove reference link\n",
    "remove_ref <- function(strings) {\n",
    "    #ref_pattern <- \"\\\\[[A-z0-9]+\\\\]\"\n",
    "    # Replace all matched substrings with a white space using str_replace_all()\n",
    "    result <- str_replace_all(strings,ref_pattern,\" \")\n",
    "    # Trim the reslt if you want\n",
    "    return(result)\n",
    "}"
   ]
  },
  {
   "cell_type": "markdown",
   "metadata": {},
   "source": [
    "*TODO:* Use the `dplyr::mutate()` function to apply the `remove_ref` function to the `CITY` and `SYSTEM` columns\n"
   ]
  },
  {
   "cell_type": "code",
   "execution_count": 232,
   "metadata": {},
   "outputs": [],
   "source": [
    "sub_bike_sharing_df$CITY<-remove_ref(sub_bike_sharing_df$CITY)"
   ]
  },
  {
   "cell_type": "code",
   "execution_count": 257,
   "metadata": {},
   "outputs": [
    {
     "data": {
      "text/html": [
       "<ol class=list-inline>\n",
       "\t<li>'San Francisco Bay Area[312]'</li>\n",
       "\t<li>'Santa Monica, California[313]'</li>\n",
       "\t<li>'Savannah, Georgia[314]'</li>\n",
       "\t<li>'Seattle, Washington[315]'</li>\n",
       "\t<li>'Spartanburg, South Carolina[316]'</li>\n",
       "\t<li>'St. Paul'</li>\n",
       "</ol>\n"
      ],
      "text/latex": [
       "\\begin{enumerate*}\n",
       "\\item 'San Francisco Bay Area{[}312{]}'\n",
       "\\item 'Santa Monica, California{[}313{]}'\n",
       "\\item 'Savannah, Georgia{[}314{]}'\n",
       "\\item 'Seattle, Washington{[}315{]}'\n",
       "\\item 'Spartanburg, South Carolina{[}316{]}'\n",
       "\\item 'St. Paul'\n",
       "\\end{enumerate*}\n"
      ],
      "text/markdown": [
       "1. 'San Francisco Bay Area[312]'\n",
       "2. 'Santa Monica, California[313]'\n",
       "3. 'Savannah, Georgia[314]'\n",
       "4. 'Seattle, Washington[315]'\n",
       "5. 'Spartanburg, South Carolina[316]'\n",
       "6. 'St. Paul'\n",
       "\n",
       "\n"
      ],
      "text/plain": [
       "[1] \"San Francisco Bay Area[312]\"      \"Santa Monica, California[313]\"   \n",
       "[3] \"Savannah, Georgia[314]\"           \"Seattle, Washington[315]\"        \n",
       "[5] \"Spartanburg, South Carolina[316]\" \"St. Paul\"                        "
      ]
     },
     "metadata": {},
     "output_type": "display_data"
    }
   ],
   "source": [
    "tail(sub_bike_sharing_df$CITY)"
   ]
  },
  {
   "cell_type": "code",
   "execution_count": 265,
   "metadata": {},
   "outputs": [],
   "source": [
    "sub_bike_sharing_df<-sub_bike_sharing_df %>% mutate(CITY=remove_ref(CITY), SYSTEM=remove_ref(SYSTEM))"
   ]
  },
  {
   "cell_type": "markdown",
   "metadata": {},
   "source": [
    "*TODO:* Use the following code to check whether all reference links are removed:\n"
   ]
  },
  {
   "cell_type": "code",
   "execution_count": 266,
   "metadata": {},
   "outputs": [
    {
     "data": {
      "text/html": [
       "<table>\n",
       "<thead><tr><th scope=col>CITY</th><th scope=col>SYSTEM</th><th scope=col>BICYCLES</th></tr></thead>\n",
       "<tbody>\n",
       "</tbody>\n",
       "</table>\n"
      ],
      "text/latex": [
       "\\begin{tabular}{r|lll}\n",
       " CITY & SYSTEM & BICYCLES\\\\\n",
       "\\hline\n",
       "\\end{tabular}\n"
      ],
      "text/markdown": [
       "\n",
       "| CITY | SYSTEM | BICYCLES |\n",
       "|---|---|---|\n",
       "\n"
      ],
      "text/plain": [
       "     CITY SYSTEM BICYCLES"
      ]
     },
     "metadata": {},
     "output_type": "display_data"
    }
   ],
   "source": [
    "sub_bike_sharing_df %>% \n",
    "    select(CITY, SYSTEM, BICYCLES) %>% \n",
    "    filter(find_reference_pattern(CITY) | find_reference_pattern(SYSTEM) | find_reference_pattern(BICYCLES))"
   ]
  },
  {
   "cell_type": "markdown",
   "metadata": {},
   "source": [
    "# TASK: Extract the numeric value using regular expressions\n"
   ]
  },
  {
   "cell_type": "markdown",
   "metadata": {},
   "source": [
    "*TODO:* Write a custom function using `stringr::str_extract` to extract the first digital substring match and convert it into numeric type For example, extract the value '32' from `32 (including 6 rollers) [162]`.\n"
   ]
  },
  {
   "cell_type": "code",
   "execution_count": 259,
   "metadata": {},
   "outputs": [],
   "source": [
    "# Extract the first number\n",
    "extract_num <- function(columns){\n",
    "    # Define a digital pattern\n",
    "    digitals_pattern <- \"[0-9]\"\n",
    "    # Find the first match using str_extract\n",
    "    result <- str_extract(columns,digitals_pattern)\n",
    "    # Convert the result to numeric using the as.numeric() function\n",
    "   return(as.numeric(result))\n",
    "}"
   ]
  },
  {
   "cell_type": "markdown",
   "metadata": {},
   "source": [
    "*TODO:* Use the `dplyr::mutate()` function to apply `extract_num` on the `BICYCLES` column\n"
   ]
  },
  {
   "cell_type": "code",
   "execution_count": 264,
   "metadata": {},
   "outputs": [],
   "source": [
    "# Use the mutate() function on the BICYCLES column\n",
    "sub_bike_sharing_df <- sub_bike_sharing_df %>% mutate(BICYCLES=extract_num(BICYCLES))"
   ]
  },
  {
   "cell_type": "markdown",
   "metadata": {},
   "source": [
    "*TODO:* Use the summary function to check the descriptive statistics of the numeric `BICYCLES` column\n"
   ]
  },
  {
   "cell_type": "code",
   "execution_count": 268,
   "metadata": {},
   "outputs": [
    {
     "data": {
      "text/plain": [
       "   Min. 1st Qu.  Median    Mean 3rd Qu.    Max.    NA's \n",
       "  1.000   1.000   3.000   3.329   5.000   9.000      76 "
      ]
     },
     "metadata": {},
     "output_type": "display_data"
    }
   ],
   "source": [
    "summary(sub_bike_sharing_df$BICYCLES)"
   ]
  },
  {
   "cell_type": "markdown",
   "metadata": {},
   "source": [
    "*TODO:* Write the cleaned bike-sharing systems dataset into a csv file called `bike_sharing_systems.csv`\n"
   ]
  },
  {
   "cell_type": "code",
   "execution_count": 270,
   "metadata": {},
   "outputs": [],
   "source": [
    "# Write dataset to `bike_sharing_systems.csv`\n",
    "write_csv(sub_bike_sharing_df,\"sub_bike_sharing_df.csv\")"
   ]
  },
  {
   "cell_type": "markdown",
   "metadata": {},
   "source": [
    "# References:\n"
   ]
  },
  {
   "cell_type": "markdown",
   "metadata": {},
   "source": [
    "If you need to refresh your memory about regular expressions, please refer to this good Regular Expression cheat sheet:\n",
    "\n",
    "<a href=\"https://www.rstudio.com/wp-content/uploads/2016/09/RegExCheatsheet.pdf?utm_medium=Exinfluencer&utm_source=Exinfluencer&utm_content=000026UJ&utm_term=10006555&utm_id=NA-SkillsNetwork-Channel-SkillsNetworkCoursesIBMDeveloperSkillsNetworkRP0321ENSkillsNetwork25371262-2022-01-01\" target=\"_blank\">Basic Regular Expressions in R</a>\n"
   ]
  },
  {
   "cell_type": "markdown",
   "metadata": {},
   "source": [
    "# Next Steps\n"
   ]
  },
  {
   "cell_type": "markdown",
   "metadata": {},
   "source": [
    "Great! Now you have cleaned up the bike-sharing system dataset using regular expressions. Next, you will use other `tidyverse` functions to perform data wrangling on the bike-sharing demand dataset.\n"
   ]
  },
  {
   "cell_type": "markdown",
   "metadata": {},
   "source": [
    "## Authors\n",
    "\n",
    "<a href=\"https://www.linkedin.com/in/yan-luo-96288783/?utm_medium=Exinfluencer&utm_source=Exinfluencer&utm_content=000026UJ&utm_term=10006555&utm_id=NA-SkillsNetwork-Channel-SkillsNetworkCoursesIBMDeveloperSkillsNetworkRP0321ENSkillsNetwork25371262-2022-01-01\" target=\"_blank\">Yan Luo</a>\n"
   ]
  },
  {
   "cell_type": "markdown",
   "metadata": {},
   "source": [
    "### Other Contributors\n",
    "\n",
    "Jeff Grossman\n"
   ]
  },
  {
   "cell_type": "markdown",
   "metadata": {},
   "source": [
    "## Change Log\n",
    "\n",
    "| Date (YYYY-MM-DD) | Version | Changed By | Change Description      |\n",
    "| ----------------- | ------- | ---------- | ----------------------- |\n",
    "| 2021-04-08        | 1.0     | Yan        | Initial version created |\n",
    "|                   |         |            |                         |\n",
    "|                   |         |            |                         |\n",
    "\n",
    "## <h3 align=\"center\"> © IBM Corporation 2021. All rights reserved. <h3/>\n"
   ]
  }
 ],
 "metadata": {
  "kernelspec": {
   "display_name": "R",
   "language": "R",
   "name": "ir"
  },
  "language_info": {
   "codemirror_mode": "r",
   "file_extension": ".r",
   "mimetype": "text/x-r-source",
   "name": "R",
   "pygments_lexer": "r",
   "version": "3.6.1"
  }
 },
 "nbformat": 4,
 "nbformat_minor": 4
}
