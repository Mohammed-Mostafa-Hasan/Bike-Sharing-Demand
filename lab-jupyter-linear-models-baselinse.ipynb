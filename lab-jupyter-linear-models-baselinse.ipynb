{
 "cells": [
  {
   "cell_type": "markdown",
   "metadata": {},
   "source": [
    "<a href=\"https://cognitiveclass.ai/?utm_medium=Exinfluencer&utm_source=Exinfluencer&utm_content=000026UJ&utm_term=10006555&utm_id=NA-SkillsNetwork-Channel-SkillsNetworkCoursesIBMDeveloperSkillsNetworkRP0321ENSkillsNetwork25371262-2022-01-01\">\n",
    "    <img src=\"https://cf-courses-data.s3.us.cloud-object-storage.appdomain.cloud/IBMDeveloperSkillsNetwork-RP0101EN-Coursera/v2/M1_R_Basics/images/IDSNlogo.png\" width=\"200\" align=\"center\">\n",
    "</a>\n"
   ]
  },
  {
   "cell_type": "markdown",
   "metadata": {},
   "source": [
    "<h1>Predict Hourly Rented Bike Count using Basic Linear Regression Models</h1>\n",
    "\n",
    "Estimated time needed: **90** minutes\n"
   ]
  },
  {
   "cell_type": "markdown",
   "metadata": {},
   "source": [
    "## Lab Overview:\n",
    "\n",
    "Now that you have performed exploratory analysis on the bike sharing demand dataset and obtained some insights on the attributes, it's time to build predictive models to predict the hourly rented bike count using related weather and date information.\n",
    "\n",
    "In this lab, you will be asked to use `tidymodels` to build some baseline linear regression models:\n",
    "\n",
    "*   **TASK: Split data into training and testing datasets**\n",
    "*   **TASK: Build a linear regression model using only the weather variables**\n",
    "*   **TASK: Build a linear regression model using both weather and date variables**\n",
    "*   **TASK: Evaluate the models and identify important variables**\n",
    "\n",
    "Let's start!\n"
   ]
  },
  {
   "cell_type": "markdown",
   "metadata": {},
   "source": [
    "First install and import the necessary libraries\n"
   ]
  },
  {
   "cell_type": "code",
   "execution_count": 2,
   "metadata": {},
   "outputs": [],
   "source": [
    "# It may take several minutes to install those libraries in Watson Studio\n",
    "install.packages(\"rlang\")\n",
    "install.packages(\"tidymodels\")"
   ]
  },
  {
   "cell_type": "code",
   "execution_count": 4,
   "metadata": {},
   "outputs": [],
   "source": [
    "library(\"tidymodels\")\n",
    "library(\"tidyverse\")\n",
    "library(\"stringr\")"
   ]
  },
  {
   "cell_type": "markdown",
   "metadata": {},
   "source": [
    "The `seoul_bike_sharing_converted_normalized.csv` will be our main dataset which has following variables:\n",
    "\n",
    "The response variable:\n",
    "\n",
    "*   `RENTED BIKE COUNT`- Count of bikes rented at each hour\n",
    "\n",
    "Weather predictor variables:\n",
    "\n",
    "*   `TEMPERATURE` - Temperature in Celsius\n",
    "*   `HUMIDITY` - Unit is `%`\n",
    "*   `WIND_SPEED` - Unit is `m/s`\n",
    "*   `VISIBILITY` - Multiplied by 10m\n",
    "*   `DEW_POINT_TEMPERATURE` - The temperature to which the air would have to cool down in order to reach saturation, unit is Celsius\n",
    "*   `SOLAR_RADIATION` - MJ/m2\n",
    "*   `RAINFALL` - mm\n",
    "*   `SNOWFALL` - cm\n",
    "\n",
    "Date/time predictor variables:\n",
    "\n",
    "*   `DATE` - Year-month-day\n",
    "*   `HOUR`- Hour of he day\n",
    "*   `FUNCTIONAL DAY` - NoFunc(Non Functional Hours), Fun(Functional hours)\n",
    "*   `HOLIDAY` - Holiday/No holiday\n",
    "*   `SEASONS` - Winter, Spring, Summer, Autumn\n"
   ]
  },
  {
   "cell_type": "markdown",
   "metadata": {},
   "source": [
    "Let's read the dataset as a dataframe first:\n"
   ]
  },
  {
   "cell_type": "code",
   "execution_count": 5,
   "metadata": {},
   "outputs": [
    {
     "name": "stderr",
     "output_type": "stream",
     "text": [
      "Parsed with column specification:\n",
      "cols(\n",
      "  .default = col_double(),\n",
      "  DATE = col_character(),\n",
      "  FUNCTIONING_DAY = col_character()\n",
      ")\n",
      "See spec(...) for full column specifications.\n"
     ]
    },
    {
     "data": {
      "text/plain": [
       "cols(\n",
       "  DATE = col_character(),\n",
       "  RENTED_BIKE_COUNT = col_double(),\n",
       "  TEMPERATURE = col_double(),\n",
       "  HUMIDITY = col_double(),\n",
       "  WIND_SPEED = col_double(),\n",
       "  VISIBILITY = col_double(),\n",
       "  DEW_POINT_TEMPERATURE = col_double(),\n",
       "  SOLAR_RADIATION = col_double(),\n",
       "  RAINFALL = col_double(),\n",
       "  SNOWFALL = col_double(),\n",
       "  FUNCTIONING_DAY = col_character(),\n",
       "  `0` = col_double(),\n",
       "  `1` = col_double(),\n",
       "  `10` = col_double(),\n",
       "  `11` = col_double(),\n",
       "  `12` = col_double(),\n",
       "  `13` = col_double(),\n",
       "  `14` = col_double(),\n",
       "  `15` = col_double(),\n",
       "  `16` = col_double(),\n",
       "  `17` = col_double(),\n",
       "  `18` = col_double(),\n",
       "  `19` = col_double(),\n",
       "  `2` = col_double(),\n",
       "  `20` = col_double(),\n",
       "  `21` = col_double(),\n",
       "  `22` = col_double(),\n",
       "  `23` = col_double(),\n",
       "  `3` = col_double(),\n",
       "  `4` = col_double(),\n",
       "  `5` = col_double(),\n",
       "  `6` = col_double(),\n",
       "  `7` = col_double(),\n",
       "  `8` = col_double(),\n",
       "  `9` = col_double(),\n",
       "  AUTUMN = col_double(),\n",
       "  SPRING = col_double(),\n",
       "  SUMMER = col_double(),\n",
       "  WINTER = col_double(),\n",
       "  HOLIDAY = col_double(),\n",
       "  NO_HOLIDAY = col_double()\n",
       ")"
      ]
     },
     "metadata": {},
     "output_type": "display_data"
    }
   ],
   "source": [
    "# Dataset URL\n",
    "dataset_url <- \"https://cf-courses-data.s3.us.cloud-object-storage.appdomain.cloud/IBMDeveloperSkillsNetwork-RP0321EN-SkillsNetwork/labs/datasets/seoul_bike_sharing_converted_normalized.csv\"\n",
    "bike_sharing_df <- read_csv(dataset_url)\n",
    "spec(bike_sharing_df)"
   ]
  },
  {
   "cell_type": "markdown",
   "metadata": {},
   "source": [
    "We won't be using the `DATE` column, because 'as is', it basically acts like an data entry index. (However, given more time, we could use the `DATE` colum to create a 'day of week' or 'isWeekend' column, which we might expect has an affect on preferred bike rental times.) We also do not need the `FUNCTIONAL DAY` column because it only has one distinct value remaining (`YES`) after missing value processing.\n"
   ]
  },
  {
   "cell_type": "code",
   "execution_count": 6,
   "metadata": {},
   "outputs": [],
   "source": [
    "bike_sharing_df <- bike_sharing_df %>% \n",
    "                   select(-DATE, -FUNCTIONING_DAY)"
   ]
  },
  {
   "cell_type": "markdown",
   "metadata": {},
   "source": [
    "# TASK: Split training and testing data\n"
   ]
  },
  {
   "cell_type": "markdown",
   "metadata": {},
   "source": [
    "First, we need to split the full dataset into training and testing datasets.\n",
    "\n",
    "The training dataset will be used for fitting regression models, and the testing dataset will be used to evaluate the trained models.\n"
   ]
  },
  {
   "cell_type": "markdown",
   "metadata": {},
   "source": [
    "*TODO:* Use the `initial_split()`, `training()`, and `testing()` functions to generate a training dataset consisting of 75% of the original dataset, and a testing dataset using the remaining 25%.\n"
   ]
  },
  {
   "cell_type": "code",
   "execution_count": 7,
   "metadata": {},
   "outputs": [],
   "source": [
    "# Use the `initial_split()`, `training()`, and `testing()` functions to split the dataset\n",
    "# With seed 1234\n",
    "set.seed(1234)\n",
    "# prop = 3/4\n",
    "case_data<-initial_split(bike_sharing_df,prop=0.75)\n",
    "# train_data\n",
    "trained_data <- training(case_data)\n",
    "# test_data\n",
    "tested_data  <- testing(case_data)"
   ]
  },
  {
   "cell_type": "markdown",
   "metadata": {},
   "source": [
    "# TASK: Build a linear regression model using weather variables only\n"
   ]
  },
  {
   "cell_type": "markdown",
   "metadata": {},
   "source": [
    "As you could imagine, weather conditions may affect people's bike renting decisions. For example, on a cold and rainy day, you may choose alternate transportation such as a bus or taxi.  While on a nice sunny day, you may want to rent a bike for a short-distance travel.\n"
   ]
  },
  {
   "cell_type": "markdown",
   "metadata": {},
   "source": [
    "Thus, can we predict a city's bike-sharing demand based on its local weather information? Let's try to build a regression model to do that.\n"
   ]
  },
  {
   "cell_type": "markdown",
   "metadata": {},
   "source": [
    "*TODO:* Build a linear regression model called `lm_model_weather` using the following variables:\n",
    "\n",
    "*   `TEMPERATURE` - Temperature in Celsius\n",
    "*   `HUMIDITY` - Unit is `%`\n",
    "*   `WIND_SPEED` - Unit is `m/s`\n",
    "*   `VISIBILITY` - Multiplied by 10m\n",
    "*   `DEW_POINT_TEMPERATURE` - The temperature to which the air would have to cool down in order to reach saturation, unit is Celsius\n",
    "*   `SOLAR_RADIATION` - MJ/m2\n",
    "*   `RAINFALL` - mm\n",
    "*   `SNOWFALL` - cm\n"
   ]
  },
  {
   "cell_type": "markdown",
   "metadata": {},
   "source": [
    "Define a linear regression model specification.\n"
   ]
  },
  {
   "cell_type": "code",
   "execution_count": 12,
   "metadata": {},
   "outputs": [],
   "source": [
    "# Use `linear_reg()` with engine `lm` and mode `regression`\n",
    "lm_model_weather<-linear_reg()%>%\n",
    "    set_engine(\"lm\")"
   ]
  },
  {
   "cell_type": "markdown",
   "metadata": {},
   "source": [
    "Fit a model with the response variable `RENTED_BIKE_COUNT` and predictor variables `TEMPERATURE + HUMIDITY + WIND_SPEED + VISIBILITY + DEW_POINT_TEMPERATURE + SOLAR_RADIATION + RAINFALL + SNOWFALL`\n"
   ]
  },
  {
   "cell_type": "code",
   "execution_count": 19,
   "metadata": {},
   "outputs": [],
   "source": [
    "# Fit the model called `lm_model_weather`\n",
    "# RENTED_BIKE_COUNT ~ TEMPERATURE + HUMIDITY + WIND_SPEED + VISIBILITY + DEW_POINT_TEMPERATURE + SOLAR_RADIATION + RAINFALL + SNOWFALL,  with the training data\n",
    "fit_lm_model_weather <-lm_model_weather%>%\n",
    "fit(RENTED_BIKE_COUNT ~TEMPERATURE + HUMIDITY + WIND_SPEED + VISIBILITY + \n",
    "    DEW_POINT_TEMPERATURE + SOLAR_RADIATION + RAINFALL + SNOWFALL,data=trained_data)"
   ]
  },
  {
   "cell_type": "markdown",
   "metadata": {},
   "source": [
    "Print the fit summary for the `lm_model_weather` model.\n"
   ]
  },
  {
   "cell_type": "code",
   "execution_count": 20,
   "metadata": {},
   "outputs": [
    {
     "name": "stdout",
     "output_type": "stream",
     "text": [
      "\n",
      "Call:\n",
      "stats::lm(formula = RENTED_BIKE_COUNT ~ TEMPERATURE + HUMIDITY + \n",
      "    WIND_SPEED + VISIBILITY + DEW_POINT_TEMPERATURE + SOLAR_RADIATION + \n",
      "    RAINFALL + SNOWFALL, data = data)\n",
      "\n",
      "Residuals:\n",
      "     Min       1Q   Median       3Q      Max \n",
      "-1348.46  -294.03   -57.28   208.59  2329.78 \n",
      "\n",
      "Coefficients:\n",
      "                      Estimate Std. Error t value Pr(>|t|)    \n",
      "(Intercept)             156.71      58.07   2.699  0.00698 ** \n",
      "TEMPERATURE            2399.74     261.66   9.171  < 2e-16 ***\n",
      "HUMIDITY               -918.38     126.79  -7.243  4.9e-13 ***\n",
      "WIND_SPEED              404.47      48.16   8.399  < 2e-16 ***\n",
      "VISIBILITY               12.56      24.86   0.505  0.61351    \n",
      "DEW_POINT_TEMPERATURE  -316.92     278.83  -1.137  0.25575    \n",
      "SOLAR_RADIATION        -444.85      34.69 -12.824  < 2e-16 ***\n",
      "RAINFALL              -1764.01     182.65  -9.658  < 2e-16 ***\n",
      "SNOWFALL                317.78     131.58   2.415  0.01576 *  \n",
      "---\n",
      "Signif. codes:  0 ‘***’ 0.001 ‘**’ 0.01 ‘*’ 0.05 ‘.’ 0.1 ‘ ’ 1\n",
      "\n",
      "Residual standard error: 487.3 on 6339 degrees of freedom\n",
      "Multiple R-squared:  0.4303,\tAdjusted R-squared:  0.4296 \n",
      "F-statistic: 598.5 on 8 and 6339 DF,  p-value: < 2.2e-16\n",
      "\n"
     ]
    }
   ],
   "source": [
    " print(summary(fit_lm_model_weather$fit))"
   ]
  },
  {
   "cell_type": "markdown",
   "metadata": {},
   "source": [
    "You should see the model details such as formula, residuals, and coefficients.\n"
   ]
  },
  {
   "cell_type": "markdown",
   "metadata": {},
   "source": [
    "# TASK: Build a linear regression model using all variables\n"
   ]
  },
  {
   "cell_type": "markdown",
   "metadata": {},
   "source": [
    "In addition to weather, there could be other factors that may affect bike rental demand, such as the time of a day or if today is a holiday or not.\n"
   ]
  },
  {
   "cell_type": "markdown",
   "metadata": {},
   "source": [
    "Next, let's build a linear regression model using all variables (weather + date/time) in this task.\n"
   ]
  },
  {
   "cell_type": "markdown",
   "metadata": {},
   "source": [
    "*TODO:* Build a linear regression model called `lm_model_all` using all variables `RENTED_BIKE_COUNT ~ .`\n"
   ]
  },
  {
   "cell_type": "code",
   "execution_count": 23,
   "metadata": {},
   "outputs": [],
   "source": [
    "# Fit the model called ``\n",
    "# `RENTED_BIKE_COUNT ~ .` means use all other variables except for the response variable\n",
    "lm_model_all<-lm_model_weather %>%\n",
    "fit(RENTED_BIKE_COUNT ~ .,data=trained_data)"
   ]
  },
  {
   "cell_type": "markdown",
   "metadata": {},
   "source": [
    "Print the fit summary for `lm_model_all`.\n"
   ]
  },
  {
   "cell_type": "code",
   "execution_count": 24,
   "metadata": {},
   "outputs": [
    {
     "data": {
      "text/plain": [
       "\n",
       "Call:\n",
       "stats::lm(formula = RENTED_BIKE_COUNT ~ ., data = data)\n",
       "\n",
       "Residuals:\n",
       "     Min       1Q   Median       3Q      Max \n",
       "-1401.45  -218.96    -7.31   199.53  1780.67 \n",
       "\n",
       "Coefficients: (3 not defined because of singularities)\n",
       "                      Estimate Std. Error t value Pr(>|t|)    \n",
       "(Intercept)             212.20      51.04   4.158 3.26e-05 ***\n",
       "TEMPERATURE             782.66     212.13   3.690 0.000227 ***\n",
       "HUMIDITY               -886.73      99.49  -8.913  < 2e-16 ***\n",
       "WIND_SPEED               31.91      40.27   0.792 0.428169    \n",
       "VISIBILITY               21.87      20.26   1.079 0.280439    \n",
       "DEW_POINT_TEMPERATURE   598.39     221.37   2.703 0.006888 ** \n",
       "SOLAR_RADIATION         276.88      41.47   6.677 2.64e-11 ***\n",
       "RAINFALL              -2064.64     143.28 -14.410  < 2e-16 ***\n",
       "SNOWFALL                260.97     103.50   2.522 0.011709 *  \n",
       "`0`                     -29.30      34.26  -0.855 0.392515    \n",
       "`1`                    -116.85      33.72  -3.465 0.000533 ***\n",
       "`10`                   -237.52      32.74  -7.255 4.48e-13 ***\n",
       "`11`                   -247.38      33.85  -7.309 3.02e-13 ***\n",
       "`12`                   -208.34      34.39  -6.059 1.45e-09 ***\n",
       "`13`                   -191.35      35.04  -5.461 4.90e-08 ***\n",
       "`14`                   -192.44      34.44  -5.588 2.39e-08 ***\n",
       "`15`                   -109.73      34.40  -3.190 0.001429 ** \n",
       "`16`                     23.13      34.00   0.680 0.496431    \n",
       "`17`                    305.55      34.15   8.946  < 2e-16 ***\n",
       "`18`                    794.80      34.02  23.364  < 2e-16 ***\n",
       "`19`                    522.99      34.25  15.268  < 2e-16 ***\n",
       "`2`                    -237.21      33.74  -7.030 2.28e-12 ***\n",
       "`20`                    432.00      34.13  12.657  < 2e-16 ***\n",
       "`21`                    446.58      34.09  13.100  < 2e-16 ***\n",
       "`22`                    342.64      33.85  10.123  < 2e-16 ***\n",
       "`23`                    103.81      33.85   3.066 0.002175 ** \n",
       "`3`                    -319.87      34.23  -9.346  < 2e-16 ***\n",
       "`4`                    -386.29      34.00 -11.361  < 2e-16 ***\n",
       "`5`                    -362.72      33.48 -10.834  < 2e-16 ***\n",
       "`6`                    -204.12      33.59  -6.076 1.30e-09 ***\n",
       "`7`                     106.76      33.58   3.179 0.001486 ** \n",
       "`8`                     450.98      32.62  13.823  < 2e-16 ***\n",
       "`9`                         NA         NA      NA       NA    \n",
       "AUTUMN                  359.00      20.29  17.694  < 2e-16 ***\n",
       "SPRING                  191.37      19.36   9.884  < 2e-16 ***\n",
       "SUMMER                  198.14      29.19   6.789 1.24e-11 ***\n",
       "WINTER                      NA         NA      NA       NA    \n",
       "HOLIDAY                -124.42      22.95  -5.422 6.11e-08 ***\n",
       "NO_HOLIDAY                  NA         NA      NA       NA    \n",
       "---\n",
       "Signif. codes:  0 ‘***’ 0.001 ‘**’ 0.01 ‘*’ 0.05 ‘.’ 0.1 ‘ ’ 1\n",
       "\n",
       "Residual standard error: 377.9 on 6312 degrees of freedom\n",
       "Multiple R-squared:  0.6589,\tAdjusted R-squared:  0.657 \n",
       "F-statistic: 348.4 on 35 and 6312 DF,  p-value: < 2.2e-16\n"
      ]
     },
     "metadata": {},
     "output_type": "display_data"
    }
   ],
   "source": [
    "summary(lm_model_all$fit)"
   ]
  },
  {
   "cell_type": "markdown",
   "metadata": {},
   "source": [
    "Now you have built two basic linear regression models with different predictor variables, let's evaluate which model has better performance,\n"
   ]
  },
  {
   "cell_type": "markdown",
   "metadata": {},
   "source": [
    "# TASK: Model evaluation and identification of important variables\n"
   ]
  },
  {
   "cell_type": "markdown",
   "metadata": {},
   "source": [
    "Now that you have built two regression models, `lm_model_weather` and `lm_model_all`, with different predictor variables, you need to compare their performance to see which one is better.\n"
   ]
  },
  {
   "cell_type": "markdown",
   "metadata": {},
   "source": [
    "In this project, you will be asked to use very important metrics that are often used in Statistics to determine the performance of a model:\n",
    "\n",
    "1.  R^2 / R-squared\n",
    "2.  Root Mean Squared Error (RMSE)\n",
    "\n",
    "**R-squared**\n",
    "\n",
    "<p>R squared, also known as the coefficient of determination, is a measure to indicate how close the data is to the fitted regression line. The value of R-squared is the percentage of variation of the response variable (y) that is explained by a linear model.</p>\n",
    "\n",
    "**Root Mean Squared Error (RMSE)**\n",
    "$$\n",
    "RMSE = \\sqrt{MSE}\n",
    "$$\n",
    "\n",
    "As you know, the Mean Squared Error measures the average of the squares of errors, where 'error' is the difference between the actual value ($y$) and the estimated value ($ŷ$).\n",
    "Another metric that is related to MSE is **Root Mean Squared Error (RMSE)** and is simply the square root of MSE.\n"
   ]
  },
  {
   "cell_type": "markdown",
   "metadata": {},
   "source": [
    "We first need to test the `lm_model_weather` and `lm_model_all` models against the test dataset `test_data`, and generate `RENTED_BIKE_COUNT` prediction results.\n"
   ]
  },
  {
   "cell_type": "markdown",
   "metadata": {},
   "source": [
    "*TODO:* Make predictions on the testing dataset using both `lm_model_weather` and `lm_model_all` models\n"
   ]
  },
  {
   "cell_type": "code",
   "execution_count": 25,
   "metadata": {},
   "outputs": [
    {
     "name": "stderr",
     "output_type": "stream",
     "text": [
      "Warning message in predict.lm(object = object$fit, newdata = new_data, type = \"response\"):\n",
      "“prediction from a rank-deficient fit may be misleading”"
     ]
    }
   ],
   "source": [
    "# Use predict() function to generate test results for `lm_model_weather` and `lm_model_all`\n",
    "# and generate two test results dataframe with a truth column:\n",
    "\n",
    "# test_results_weather for lm_model_weather model\n",
    "test_result_1 <- predict(fit_lm_model_weather,tested_data)\n",
    "# test_results_all for lm_model_all\n",
    "test_result_2 <- predict(lm_model_all,tested_data)"
   ]
  },
  {
   "cell_type": "markdown",
   "metadata": {},
   "source": [
    "NOTE: if you happen to see a warning like : `prediction from a rank-deficient fit may be misleading`, it may be casued by collinearity in the predictor variables. Collinearity means that one predictor variable can be predicted from other predictor variables to some degree. For example, `RAINFALL` could be predicted by `HUMIDITY`.\n",
    "\n",
    "But dont worry, you will address `glmnet` models (Lasso and Elastic-Net Regularized Generalized Linear Models) instead of regular `regression` models to solve this issue and futher improve the model performance.\n"
   ]
  },
  {
   "cell_type": "markdown",
   "metadata": {},
   "source": [
    "Next, let's calculate and print the R-squared and RMSE for the two test results\n"
   ]
  },
  {
   "cell_type": "markdown",
   "metadata": {},
   "source": [
    "*TODO:* Use `rsq()` and `rmse()` functions to calculate R-squared and RMSE metrics for the two test results\n"
   ]
  },
  {
   "cell_type": "code",
   "execution_count": 41,
   "metadata": {},
   "outputs": [],
   "source": [
    "#rsq_weather <- rsq(test_result_1)\n",
    "#rsq_all <- rsq(test_result_2)\n",
    "\n",
    "rmse_weather <- rmse(test_result_1,tested_data$RENTED_BIKE_COUNT,estimate = .pred)\n",
    "rmse_all <-  rmse(test_result_2,tested_data$RENTED_BIKE_COUNT,estimate = .pred)"
   ]
  },
  {
   "cell_type": "markdown",
   "metadata": {},
   "source": [
    "From these tables, you should find that the test results from `lm_model_all` are much better. It means that using both weather and datetime variables in the model generates better prediction results.\n"
   ]
  },
  {
   "cell_type": "markdown",
   "metadata": {},
   "source": [
    "Since `lm_model_all` has many predictor variables, let's check which predictor variables have larger coefficients. Variables with larger coefficients in the model means they attribute more in the prediction of `RENTED_BIKE_COUNT`. In addition, since all predictor variables are normalized to the same scale, 0 to 1, we thus can compare their coefficients directly.\n"
   ]
  },
  {
   "cell_type": "markdown",
   "metadata": {},
   "source": [
    "You could try building another regression model using the non-normalized `seoul_bike_sharing_converted.csv` dataset, and you would find that the coefficients are much different.\n"
   ]
  },
  {
   "cell_type": "markdown",
   "metadata": {},
   "source": [
    "First let's print all coefficients:\n"
   ]
  },
  {
   "cell_type": "code",
   "execution_count": 95,
   "metadata": {},
   "outputs": [
    {
     "data": {
      "text/html": [
       "<dl class=dl-horizontal>\n",
       "\t<dt>(Intercept)</dt>\n",
       "\t\t<dd>212.199462743954</dd>\n",
       "\t<dt>TEMPERATURE</dt>\n",
       "\t\t<dd>782.657870088692</dd>\n",
       "\t<dt>HUMIDITY</dt>\n",
       "\t\t<dd>-886.73027784441</dd>\n",
       "\t<dt>WIND_SPEED</dt>\n",
       "\t\t<dd>31.9129927279246</dd>\n",
       "\t<dt>VISIBILITY</dt>\n",
       "\t\t<dd>21.8716449661126</dd>\n",
       "\t<dt>DEW_POINT_TEMPERATURE</dt>\n",
       "\t\t<dd>598.387261041619</dd>\n",
       "\t<dt>SOLAR_RADIATION</dt>\n",
       "\t\t<dd>276.881652368234</dd>\n",
       "\t<dt>RAINFALL</dt>\n",
       "\t\t<dd>-2064.63754308304</dd>\n",
       "\t<dt>SNOWFALL</dt>\n",
       "\t\t<dd>260.973302878596</dd>\n",
       "\t<dt>`0`</dt>\n",
       "\t\t<dd>-29.2983361016137</dd>\n",
       "\t<dt>`1`</dt>\n",
       "\t\t<dd>-116.846747038285</dd>\n",
       "\t<dt>`10`</dt>\n",
       "\t\t<dd>-237.51820120511</dd>\n",
       "\t<dt>`11`</dt>\n",
       "\t\t<dd>-247.38341321939</dd>\n",
       "\t<dt>`12`</dt>\n",
       "\t\t<dd>-208.341330868407</dd>\n",
       "\t<dt>`13`</dt>\n",
       "\t\t<dd>-191.354228014138</dd>\n",
       "\t<dt>`14`</dt>\n",
       "\t\t<dd>-192.441682312028</dd>\n",
       "\t<dt>`15`</dt>\n",
       "\t\t<dd>-109.733640240686</dd>\n",
       "\t<dt>`16`</dt>\n",
       "\t\t<dd>23.128163602844</dd>\n",
       "\t<dt>`17`</dt>\n",
       "\t\t<dd>305.547618249471</dd>\n",
       "\t<dt>`18`</dt>\n",
       "\t\t<dd>794.803151569959</dd>\n",
       "\t<dt>`19`</dt>\n",
       "\t\t<dd>522.988214834461</dd>\n",
       "\t<dt>`2`</dt>\n",
       "\t\t<dd>-237.211663999792</dd>\n",
       "\t<dt>`20`</dt>\n",
       "\t\t<dd>431.99523757542</dd>\n",
       "\t<dt>`21`</dt>\n",
       "\t\t<dd>446.580533576852</dd>\n",
       "\t<dt>`22`</dt>\n",
       "\t\t<dd>342.64091922177</dd>\n",
       "\t<dt>`23`</dt>\n",
       "\t\t<dd>103.808410131075</dd>\n",
       "\t<dt>`3`</dt>\n",
       "\t\t<dd>-319.871517124491</dd>\n",
       "\t<dt>`4`</dt>\n",
       "\t\t<dd>-386.292807947984</dd>\n",
       "\t<dt>`5`</dt>\n",
       "\t\t<dd>-362.720001875814</dd>\n",
       "\t<dt>`6`</dt>\n",
       "\t\t<dd>-204.118732579813</dd>\n",
       "\t<dt>`7`</dt>\n",
       "\t\t<dd>106.757133838754</dd>\n",
       "\t<dt>`8`</dt>\n",
       "\t\t<dd>450.977534093274</dd>\n",
       "\t<dt>`9`</dt>\n",
       "\t\t<dd>&lt;NA&gt;</dd>\n",
       "\t<dt>AUTUMN</dt>\n",
       "\t\t<dd>358.999443905867</dd>\n",
       "\t<dt>SPRING</dt>\n",
       "\t\t<dd>191.365267451116</dd>\n",
       "\t<dt>SUMMER</dt>\n",
       "\t\t<dd>198.142010192369</dd>\n",
       "\t<dt>WINTER</dt>\n",
       "\t\t<dd>&lt;NA&gt;</dd>\n",
       "\t<dt>HOLIDAY</dt>\n",
       "\t\t<dd>-124.423741444013</dd>\n",
       "\t<dt>NO_HOLIDAY</dt>\n",
       "\t\t<dd>&lt;NA&gt;</dd>\n",
       "</dl>\n"
      ],
      "text/latex": [
       "\\begin{description*}\n",
       "\\item[(Intercept)] 212.199462743954\n",
       "\\item[TEMPERATURE] 782.657870088692\n",
       "\\item[HUMIDITY] -886.73027784441\n",
       "\\item[WIND\\textbackslash{}\\_SPEED] 31.9129927279246\n",
       "\\item[VISIBILITY] 21.8716449661126\n",
       "\\item[DEW\\textbackslash{}\\_POINT\\textbackslash{}\\_TEMPERATURE] 598.387261041619\n",
       "\\item[SOLAR\\textbackslash{}\\_RADIATION] 276.881652368234\n",
       "\\item[RAINFALL] -2064.63754308304\n",
       "\\item[SNOWFALL] 260.973302878596\n",
       "\\item[`0`] -29.2983361016137\n",
       "\\item[`1`] -116.846747038285\n",
       "\\item[`10`] -237.51820120511\n",
       "\\item[`11`] -247.38341321939\n",
       "\\item[`12`] -208.341330868407\n",
       "\\item[`13`] -191.354228014138\n",
       "\\item[`14`] -192.441682312028\n",
       "\\item[`15`] -109.733640240686\n",
       "\\item[`16`] 23.128163602844\n",
       "\\item[`17`] 305.547618249471\n",
       "\\item[`18`] 794.803151569959\n",
       "\\item[`19`] 522.988214834461\n",
       "\\item[`2`] -237.211663999792\n",
       "\\item[`20`] 431.99523757542\n",
       "\\item[`21`] 446.580533576852\n",
       "\\item[`22`] 342.64091922177\n",
       "\\item[`23`] 103.808410131075\n",
       "\\item[`3`] -319.871517124491\n",
       "\\item[`4`] -386.292807947984\n",
       "\\item[`5`] -362.720001875814\n",
       "\\item[`6`] -204.118732579813\n",
       "\\item[`7`] 106.757133838754\n",
       "\\item[`8`] 450.977534093274\n",
       "\\item[`9`] <NA>\n",
       "\\item[AUTUMN] 358.999443905867\n",
       "\\item[SPRING] 191.365267451116\n",
       "\\item[SUMMER] 198.142010192369\n",
       "\\item[WINTER] <NA>\n",
       "\\item[HOLIDAY] -124.423741444013\n",
       "\\item[NO\\textbackslash{}\\_HOLIDAY] <NA>\n",
       "\\end{description*}\n"
      ],
      "text/markdown": [
       "(Intercept)\n",
       ":   212.199462743954TEMPERATURE\n",
       ":   782.657870088692HUMIDITY\n",
       ":   -886.73027784441WIND_SPEED\n",
       ":   31.9129927279246VISIBILITY\n",
       ":   21.8716449661126DEW_POINT_TEMPERATURE\n",
       ":   598.387261041619SOLAR_RADIATION\n",
       ":   276.881652368234RAINFALL\n",
       ":   -2064.63754308304SNOWFALL\n",
       ":   260.973302878596`0`\n",
       ":   -29.2983361016137`1`\n",
       ":   -116.846747038285`10`\n",
       ":   -237.51820120511`11`\n",
       ":   -247.38341321939`12`\n",
       ":   -208.341330868407`13`\n",
       ":   -191.354228014138`14`\n",
       ":   -192.441682312028`15`\n",
       ":   -109.733640240686`16`\n",
       ":   23.128163602844`17`\n",
       ":   305.547618249471`18`\n",
       ":   794.803151569959`19`\n",
       ":   522.988214834461`2`\n",
       ":   -237.211663999792`20`\n",
       ":   431.99523757542`21`\n",
       ":   446.580533576852`22`\n",
       ":   342.64091922177`23`\n",
       ":   103.808410131075`3`\n",
       ":   -319.871517124491`4`\n",
       ":   -386.292807947984`5`\n",
       ":   -362.720001875814`6`\n",
       ":   -204.118732579813`7`\n",
       ":   106.757133838754`8`\n",
       ":   450.977534093274`9`\n",
       ":   &lt;NA&gt;AUTUMN\n",
       ":   358.999443905867SPRING\n",
       ":   191.365267451116SUMMER\n",
       ":   198.142010192369WINTER\n",
       ":   &lt;NA&gt;HOLIDAY\n",
       ":   -124.423741444013NO_HOLIDAY\n",
       ":   &lt;NA&gt;\n",
       "\n"
      ],
      "text/plain": [
       "          (Intercept)           TEMPERATURE              HUMIDITY \n",
       "            212.19946             782.65787            -886.73028 \n",
       "           WIND_SPEED            VISIBILITY DEW_POINT_TEMPERATURE \n",
       "             31.91299              21.87164             598.38726 \n",
       "      SOLAR_RADIATION              RAINFALL              SNOWFALL \n",
       "            276.88165           -2064.63754             260.97330 \n",
       "                  `0`                   `1`                  `10` \n",
       "            -29.29834            -116.84675            -237.51820 \n",
       "                 `11`                  `12`                  `13` \n",
       "           -247.38341            -208.34133            -191.35423 \n",
       "                 `14`                  `15`                  `16` \n",
       "           -192.44168            -109.73364              23.12816 \n",
       "                 `17`                  `18`                  `19` \n",
       "            305.54762             794.80315             522.98821 \n",
       "                  `2`                  `20`                  `21` \n",
       "           -237.21166             431.99524             446.58053 \n",
       "                 `22`                  `23`                   `3` \n",
       "            342.64092             103.80841            -319.87152 \n",
       "                  `4`                   `5`                   `6` \n",
       "           -386.29281            -362.72000            -204.11873 \n",
       "                  `7`                   `8`                   `9` \n",
       "            106.75713             450.97753                    NA \n",
       "               AUTUMN                SPRING                SUMMER \n",
       "            358.99944             191.36527             198.14201 \n",
       "               WINTER               HOLIDAY            NO_HOLIDAY \n",
       "                   NA            -124.42374                    NA "
      ]
     },
     "metadata": {},
     "output_type": "display_data"
    }
   ],
   "source": [
    "lm_model_all$fit$coefficients"
   ]
  },
  {
   "cell_type": "markdown",
   "metadata": {},
   "source": [
    "hmm, it's not very clear to compare the coefficients from a long and unsorted list. Next, you need to sort and visualize them using a bar chart\n"
   ]
  },
  {
   "cell_type": "markdown",
   "metadata": {},
   "source": [
    "*TODO:* Sort the coefficient list in descending order and visualize the result using `ggplot` and `geom_bar`\n"
   ]
  },
  {
   "cell_type": "code",
   "execution_count": 142,
   "metadata": {},
   "outputs": [],
   "source": [
    "# Sort coefficient list\n",
    "sort_coef<-sort(lm_model_all$fit$coefficients)"
   ]
  },
  {
   "cell_type": "code",
   "execution_count": 143,
   "metadata": {},
   "outputs": [],
   "source": [
    "df<-as.data.frame(sort_coef)"
   ]
  },
  {
   "cell_type": "code",
   "execution_count": 99,
   "metadata": {},
   "outputs": [],
   "source": [
    "names(df) <- toupper(colnames(df))"
   ]
  },
  {
   "cell_type": "code",
   "execution_count": 103,
   "metadata": {},
   "outputs": [
    {
     "data": {
      "text/html": [
       "<table>\n",
       "<thead><tr><th></th><th scope=col>SORT_COEF</th></tr></thead>\n",
       "<tbody>\n",
       "\t<tr><th scope=row>RAINFALL</th><td>-2064.6375</td></tr>\n",
       "\t<tr><th scope=row>HUMIDITY</th><td> -886.7303</td></tr>\n",
       "\t<tr><th scope=row>`4`</th><td> -386.2928</td></tr>\n",
       "\t<tr><th scope=row>`5`</th><td> -362.7200</td></tr>\n",
       "\t<tr><th scope=row>`3`</th><td> -319.8715</td></tr>\n",
       "\t<tr><th scope=row>`11`</th><td> -247.3834</td></tr>\n",
       "</tbody>\n",
       "</table>\n"
      ],
      "text/latex": [
       "\\begin{tabular}{r|l}\n",
       "  & SORT\\_COEF\\\\\n",
       "\\hline\n",
       "\tRAINFALL & -2064.6375\\\\\n",
       "\tHUMIDITY &  -886.7303\\\\\n",
       "\t`4` &  -386.2928\\\\\n",
       "\t`5` &  -362.7200\\\\\n",
       "\t`3` &  -319.8715\\\\\n",
       "\t`11` &  -247.3834\\\\\n",
       "\\end{tabular}\n"
      ],
      "text/markdown": [
       "\n",
       "| <!--/--> | SORT_COEF |\n",
       "|---|---|\n",
       "| RAINFALL | -2064.6375 |\n",
       "| HUMIDITY |  -886.7303 |\n",
       "| `4` |  -386.2928 |\n",
       "| `5` |  -362.7200 |\n",
       "| `3` |  -319.8715 |\n",
       "| `11` |  -247.3834 |\n",
       "\n"
      ],
      "text/plain": [
       "         SORT_COEF \n",
       "RAINFALL -2064.6375\n",
       "HUMIDITY  -886.7303\n",
       "`4`       -386.2928\n",
       "`5`       -362.7200\n",
       "`3`       -319.8715\n",
       "`11`      -247.3834"
      ]
     },
     "metadata": {},
     "output_type": "display_data"
    }
   ],
   "source": [
    "head(df)"
   ]
  },
  {
   "cell_type": "code",
   "execution_count": 120,
   "metadata": {},
   "outputs": [],
   "source": [
    "library(tibble) "
   ]
  },
  {
   "cell_type": "code",
   "execution_count": 134,
   "metadata": {},
   "outputs": [],
   "source": [
    "df$coef_names<-as.factor(df$coef_names)"
   ]
  },
  {
   "cell_type": "code",
   "execution_count": 122,
   "metadata": {},
   "outputs": [],
   "source": [
    "df<-rownames_to_column(df)"
   ]
  },
  {
   "cell_type": "code",
   "execution_count": 125,
   "metadata": {},
   "outputs": [],
   "source": [
    "names(df)<- c(\"coef_names\",\"value\")"
   ]
  },
  {
   "cell_type": "code",
   "execution_count": 140,
   "metadata": {},
   "outputs": [],
   "source": [
    "df$value<-df$value*(-1)"
   ]
  },
  {
   "cell_type": "code",
   "execution_count": 161,
   "metadata": {},
   "outputs": [
    {
     "data": {
      "image/png": "[encoded data removed]",
      "text/plain": [
       "plot without title"
      ]
     },
     "metadata": {},
     "output_type": "display_data"
    }
   ],
   "source": [
    "ggplot(data=df, aes(x=\" \"))+\n",
    "geom_bar(position=\"stack\")\n"
   ]
  },
  {
   "cell_type": "markdown",
   "metadata": {},
   "source": [
    "You should see a sorted coefficient bar chart like the following example:\n"
   ]
  },
  {
   "cell_type": "markdown",
   "metadata": {},
   "source": [
    "<a href=\"https://cognitiveclass.ai/?utm_medium=Exinfluencer&utm_source=Exinfluencer&utm_content=000026UJ&utm_term=10006555&utm_id=NA-SkillsNetwork-Channel-SkillsNetworkCoursesIBMDeveloperSkillsNetworkRP0321ENSkillsNetwork25371262-2022-01-01\">\n",
    "    <img src=\"https://cf-courses-data.s3.us.cloud-object-storage.appdomain.cloud/IBMDeveloperSkillsNetwork-RP0321EN-SkillsNetwork/labs/module_4/images/coefficient_chart.png\" width=\"600\" align=\"center\">\n",
    "</a>\n"
   ]
  },
  {
   "cell_type": "markdown",
   "metadata": {},
   "source": [
    "Mark down these 'top-ranked variables by coefficient', which will be used for model refinments in the next labs.\n"
   ]
  },
  {
   "cell_type": "markdown",
   "metadata": {},
   "source": [
    "Note that here the main reason we use absolute value is to easily identify important variables, i.e. variables with large magnitudes, no matter it's negative or positive. If we want to interprete the model then it's better to seperate the positive and negative coefficients.\n"
   ]
  },
  {
   "cell_type": "markdown",
   "metadata": {},
   "source": [
    "# Next Steps\n"
   ]
  },
  {
   "cell_type": "markdown",
   "metadata": {},
   "source": [
    "Great! Now you have built a baseline linear regression model to predict hourly bike rent count, with reasonably good performance. In the next lab, you will be refining the baseline model to improve its performance.\n"
   ]
  },
  {
   "cell_type": "markdown",
   "metadata": {},
   "source": [
    "## Authors\n",
    "\n",
    "<a href=\"https://www.linkedin.com/in/yan-luo-96288783/?utm_medium=Exinfluencer&utm_source=Exinfluencer&utm_content=000026UJ&utm_term=10006555&utm_id=NA-SkillsNetwork-Channel-SkillsNetworkCoursesIBMDeveloperSkillsNetworkRP0321ENSkillsNetwork25371262-2022-01-01\" target=\"_blank\">Yan Luo</a>\n"
   ]
  },
  {
   "cell_type": "markdown",
   "metadata": {},
   "source": [
    "### Other Contributors\n",
    "\n",
    "Jeff Grossman\n"
   ]
  },
  {
   "cell_type": "markdown",
   "metadata": {},
   "source": [
    "## Change Log\n",
    "\n",
    "| Date (YYYY-MM-DD) | Version | Changed By | Change Description      |\n",
    "| ----------------- | ------- | ---------- | ----------------------- |\n",
    "| 2021-04-08        | 1.0     | Yan        | Initial version created |\n",
    "|                   |         |            |                         |\n",
    "|                   |         |            |                         |\n",
    "\n",
    "## <h3 align=\"center\"> © IBM Corporation 2021. All rights reserved. <h3/>\n"
   ]
  }
 ],
 "metadata": {
  "kernelspec": {
   "display_name": "R",
   "language": "R",
   "name": "ir"
  },
  "language_info": {
   "codemirror_mode": "r",
   "file_extension": ".r",
   "mimetype": "text/x-r-source",
   "name": "R",
   "pygments_lexer": "r",
   "version": "3.6.1"
  }
 },
 "nbformat": 4,
 "nbformat_minor": 4
}
